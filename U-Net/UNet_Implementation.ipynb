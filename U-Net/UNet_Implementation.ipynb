{
  "nbformat": 4,
  "nbformat_minor": 0,
  "metadata": {
    "colab": {
      "name": "UNet Implementation.ipynb",
      "provenance": [],
      "collapsed_sections": []
    },
    "kernelspec": {
      "name": "python3",
      "display_name": "Python 3"
    }
  },
  "cells": [
    {
      "cell_type": "code",
      "metadata": {
        "id": "4Ovxv7PNEdYM"
      },
      "source": [
        "#implementation of U-Net using pytorch "
      ],
      "execution_count": null,
      "outputs": []
    },
    {
      "cell_type": "code",
      "metadata": {
        "id": "7XPYHQ8pMPn0"
      },
      "source": [
        "import torch \n",
        "import torch.nn as nn"
      ],
      "execution_count": null,
      "outputs": []
    },
    {
      "cell_type": "code",
      "metadata": {
        "id": "qddh8a6iyUm0"
      },
      "source": [
        "def double_conv(in_c, out_c):\n",
        "  conv = nn.Sequential(\n",
        "      nn.Conv2d(in_c, out_c, kernel_size=3),\n",
        "      nn.ReLU(inplace=True),\n",
        "      nn.Conv2d(out_c, out_c, kernel_size=3),\n",
        "      nn.ReLU(inplace=True)\n",
        "  )\n",
        "  return conv\n",
        "\n",
        "def crop_img(tensor, target_tensor):\n",
        "  target_size = target_tensor.size()[2]\n",
        "  tensor_size = tensor.size()[2]\n",
        "  delta = tensor_size - target_size\n",
        "  delta = delta//2\n",
        "  return tensor[: , : , delta: tensor_size-delta, delta: tensor_size-delta]"
      ],
      "execution_count": null,
      "outputs": []
    },
    {
      "cell_type": "code",
      "metadata": {
        "id": "gbF8Zn7YUmqp",
        "colab": {
          "base_uri": "https://localhost:8080/"
        },
        "outputId": "ef999e05-7546-4007-e296-afa04d3da7c3"
      },
      "source": [
        "class UNet(nn.Module):\n",
        "  def __init__(self):\n",
        "    \n",
        "    super(UNet, self).__init__()\n",
        "\n",
        "    self.max_pool_2x2 = nn.MaxPool2d(kernel_size = 2, stride = 2)\n",
        "    self.down_conv_1 = double_conv(1, 64)\n",
        "    self.down_conv_2 = double_conv(64, 128)\n",
        "    self.down_conv_3 = double_conv(128, 256)\n",
        "    self.down_conv_4 = double_conv(256, 512)\n",
        "    self.down_conv_5 = double_conv(512, 1024)\n",
        "\n",
        "    self.up_trans_1= nn.ConvTranspose2d(in_channels=1024, out_channels=512, kernel_size=2, stride=2 )\n",
        "    self.up_conv_1= double_conv(1024, 512)\n",
        "    self.up_trans_2 = nn.ConvTranspose2d(in_channels=512, out_channels=256, kernel_size=2, stride=2 )\n",
        "    self.up_conv_2= double_conv(512, 256)\n",
        "    self.up_trans_3 = nn.ConvTranspose2d(in_channels=256, out_channels=128, kernel_size=2, stride=2 )\n",
        "    self.up_conv_3= double_conv(256, 128)\n",
        "    self.up_trans_4 = nn.ConvTranspose2d(in_channels=128, out_channels=64, kernel_size=2, stride=2 )\n",
        "    self.up_conv_4= double_conv(128, 64)\n",
        "\n",
        "    self.out = nn.Conv2d(in_channels=64, out_channels=2, kernel_size=1)\n",
        "\n",
        "\n",
        "\n",
        "\n",
        "  def forward(self, image):\n",
        "    #encoder part \n",
        "    # bs, c, h, w\n",
        "    x1 = self.down_conv_1(image)  #\n",
        "    x2= self.max_pool_2x2(x1)\n",
        "    x3= self.down_conv_2(x2)    # \n",
        "    x4= self.max_pool_2x2(x3)\n",
        "    x5= self.down_conv_3(x4)   #\n",
        "    x6= self.max_pool_2x2(x5)\n",
        "    x7= self.down_conv_4(x6)   # \n",
        "    x8= self.max_pool_2x2(x7)\n",
        "    x9= self.down_conv_5(x8)\n",
        "\n",
        "    #decoder part\n",
        "    x = self.up_trans_1(x9)\n",
        "    y = crop_img(x7, x)\n",
        "    x = self.up_conv_1(torch.cat([x,y], 1))\n",
        "\n",
        "    x = self.up_trans_2(x)\n",
        "    y = crop_img(x5, x)\n",
        "    x = self.up_conv_2(torch.cat([x,y], 1))\n",
        "\n",
        "    x = self.up_trans_3(x)\n",
        "    y = crop_img(x3, x)\n",
        "    x = self.up_conv_3(torch.cat([x,y], 1))\n",
        "\n",
        "    x = self.up_trans_4(x)\n",
        "    y = crop_img(x1, x)\n",
        "    x = self.up_conv_4(torch.cat([x,y], 1))\n",
        "\n",
        "    x = self.out(x)\n",
        "    # print(x.size())\n",
        "    # return x\n",
        "\n",
        "if __name__ == \"__main__\":\n",
        "\n",
        "\n",
        "  image =torch.rand((1, 1, 572, 572))\n",
        "  model = UNet()\n",
        "  print(model(image))"
      ],
      "execution_count": null,
      "outputs": [
        {
          "output_type": "stream",
          "text": [
            "None\n"
          ],
          "name": "stdout"
        }
      ]
    },
    {
      "cell_type": "code",
      "metadata": {
        "id": "F7udkC05FWv0"
      },
      "source": [
        ""
      ],
      "execution_count": null,
      "outputs": []
    }
  ]
}