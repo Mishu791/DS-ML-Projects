{
  "nbformat": 4,
  "nbformat_minor": 0,
  "metadata": {
    "colab": {
      "name": "Part2_Word_Vectors.ipynb",
      "provenance": [],
      "collapsed_sections": []
    },
    "kernelspec": {
      "name": "python3",
      "display_name": "Python 3"
    }
  },
  "cells": [
    {
      "cell_type": "code",
      "metadata": {
        "id": "4cVrhoN4nbOK"
      },
      "source": [
        "import numpy as np \n",
        "import pandas as pd \n"
      ],
      "execution_count": null,
      "outputs": []
    },
    {
      "cell_type": "code",
      "metadata": {
        "id": "CALIoLGQtrhp"
      },
      "source": [
        "from google.colab import files\n",
        "uploaded = files.upload()"
      ],
      "execution_count": null,
      "outputs": []
    },
    {
      "cell_type": "code",
      "metadata": {
        "colab": {
          "base_uri": "https://localhost:8080/"
        },
        "id": "LSXhcIe7uw2p",
        "outputId": "a4f50ce7-0ea9-4f8c-aac1-99f9e4047289"
      },
      "source": [
        "# Read data from files \n",
        "train = pd.read_csv( \"labeledTrainData.tsv\", header=0, \n",
        " delimiter=\"\\t\", quoting=3 )\n",
        "test = pd.read_csv( \"testData.tsv\", header=0, delimiter=\"\\t\", quoting=3 )\n",
        "unlabeled_train = pd.read_csv( \"unlabeledTrainData.tsv\", header=0, \n",
        " delimiter=\"\\t\", quoting=3 )\n",
        "\n",
        "# Verify the number of reviews that were read (100,000 in total)\n",
        "print (\"Read %d labeled train reviews, %d labeled test reviews, \" \\\n",
        " \"and %d unlabeled reviews\\n\" % (train[\"review\"].size,  \n",
        " test[\"review\"].size, unlabeled_train[\"review\"].size ))"
      ],
      "execution_count": null,
      "outputs": [
        {
          "output_type": "stream",
          "text": [
            "Read 25000 labeled train reviews, 25000 labeled test reviews, and 50000 unlabeled reviews\n",
            "\n"
          ],
          "name": "stdout"
        }
      ]
    },
    {
      "cell_type": "code",
      "metadata": {
        "id": "x-9vk_6qNAVo"
      },
      "source": [
        "# unlabeled_train"
      ],
      "execution_count": null,
      "outputs": []
    },
    {
      "cell_type": "code",
      "metadata": {
        "id": "5-VMe_Hc4r_u"
      },
      "source": [
        "# Import various modules for string cleaning\n",
        "from bs4 import BeautifulSoup\n",
        "import re\n",
        "from nltk.corpus import stopwords"
      ],
      "execution_count": null,
      "outputs": []
    },
    {
      "cell_type": "code",
      "metadata": {
        "id": "8vuq1rmu5C8x"
      },
      "source": [
        "def review_to_wordlist( review, remove_stopwords=False ):\n",
        "    # Function to convert a document to a sequence of words,\n",
        "    # optionally removing stop words.  Returns a list of words.\n",
        "    #\n",
        "    # 1. Remove HTML\n",
        "    review_text = BeautifulSoup(review).get_text()\n",
        "    #  \n",
        "    # 2. Remove non-letters\n",
        "    review_text = re.sub(\"[^a-zA-Z]\",\" \", review_text)\n",
        "    #\n",
        "    # 3. Convert words to lower case and split them\n",
        "    words = review_text.lower().split()\n",
        "    #\n",
        "    # 4. Optionally remove stop words (false by default)\n",
        "    if remove_stopwords:\n",
        "        stops = set(stopwords.words(\"english\"))\n",
        "        words = [w for w in words if not w in stops]\n",
        "    #\n",
        "    # 5. Return a list of words\n",
        "    return(words)"
      ],
      "execution_count": null,
      "outputs": []
    },
    {
      "cell_type": "code",
      "metadata": {
        "colab": {
          "base_uri": "https://localhost:8080/"
        },
        "id": "EZfCjIr599k3",
        "outputId": "459482a0-984e-4067-b5a3-6174648b9236"
      },
      "source": [
        "import nltk.data\n",
        "nltk.download('punkt')"
      ],
      "execution_count": null,
      "outputs": [
        {
          "output_type": "stream",
          "text": [
            "[nltk_data] Downloading package punkt to /root/nltk_data...\n",
            "[nltk_data]   Unzipping tokenizers/punkt.zip.\n"
          ],
          "name": "stdout"
        },
        {
          "output_type": "execute_result",
          "data": {
            "text/plain": [
              "True"
            ]
          },
          "metadata": {
            "tags": []
          },
          "execution_count": 7
        }
      ]
    },
    {
      "cell_type": "code",
      "metadata": {
        "id": "4zcV8Q2QEF8F"
      },
      "source": [
        "# Load the punkt tokenizer\n",
        "tokenizer = nltk.data.load('tokenizers/punkt/english.pickle')"
      ],
      "execution_count": null,
      "outputs": []
    },
    {
      "cell_type": "code",
      "metadata": {
        "id": "Ba-Bow4ZEJMG"
      },
      "source": [
        "# Define a function to split a review into parsed sentences\n",
        "def review_to_sentences( review, tokenizer, remove_stopwords=False ):\n",
        "    # Function to split a review into parsed sentences. Returns a \n",
        "    # list of sentences, where each sentence is a list of words\n",
        "    #\n",
        "    # 1. Use the NLTK tokenizer to split the paragraph into sentences\n",
        "    raw_sentences = tokenizer.tokenize(review.strip())\n",
        "    #\n",
        "    # 2. Loop over each sentence\n",
        "    sentences = []\n",
        "    for raw_sentence in raw_sentences:\n",
        "        # If a sentence is empty, skip it\n",
        "        if len(raw_sentence) > 0:\n",
        "            # Otherwise, call review_to_wordlist to get a list of words\n",
        "            sentences.append( review_to_wordlist( raw_sentence, \\\n",
        "              remove_stopwords ))\n",
        "    #\n",
        "    # Return the list of sentences (each sentence is a list of words,\n",
        "    # so this returns a list of lists\n",
        "    return sentences"
      ],
      "execution_count": null,
      "outputs": []
    },
    {
      "cell_type": "code",
      "metadata": {
        "colab": {
          "base_uri": "https://localhost:8080/"
        },
        "id": "JisHo9KYHOPl",
        "outputId": "5c62d842-5155-47b4-f564-a0527f419702"
      },
      "source": [
        "# raw = tokenizer.tokenize(unlabeled_train.review[1].strip())\n",
        "# raw\n",
        "\n",
        "sentences = []  # Initialize an empty list of sentences\n",
        "\n",
        "print (\"Parsing sentences from training set\")\n",
        "for review in train[\"review\"]:\n",
        "    sentences += review_to_sentences(review, tokenizer)\n",
        "\n",
        "print (\"Parsing sentences from unlabeled set\")\n",
        "for review in unlabeled_train[\"review\"]:\n",
        "    sentences += review_to_sentences(review, tokenizer)"
      ],
      "execution_count": null,
      "outputs": [
        {
          "output_type": "stream",
          "text": [
            "Parsing sentences from training set\n"
          ],
          "name": "stdout"
        },
        {
          "output_type": "stream",
          "text": [
            "/usr/local/lib/python3.6/dist-packages/bs4/__init__.py:273: UserWarning: \"b'.'\" looks like a filename, not markup. You should probably open this file and pass the filehandle into Beautiful Soup.\n",
            "  ' Beautiful Soup.' % markup)\n",
            "/usr/local/lib/python3.6/dist-packages/bs4/__init__.py:336: UserWarning: \"http://www.happierabroad.com\"\" looks like a URL. Beautiful Soup is not an HTTP client. You should probably use an HTTP client like requests to get the document behind the URL, and feed that document to Beautiful Soup.\n",
            "  ' that document to Beautiful Soup.' % decoded_markup\n"
          ],
          "name": "stderr"
        },
        {
          "output_type": "stream",
          "text": [
            "Parsing sentences from unlabeled set\n"
          ],
          "name": "stdout"
        },
        {
          "output_type": "stream",
          "text": [
            "/usr/local/lib/python3.6/dist-packages/bs4/__init__.py:336: UserWarning: \"http://www.archive.org/details/LovefromaStranger\"\" looks like a URL. Beautiful Soup is not an HTTP client. You should probably use an HTTP client like requests to get the document behind the URL, and feed that document to Beautiful Soup.\n",
            "  ' that document to Beautiful Soup.' % decoded_markup\n",
            "/usr/local/lib/python3.6/dist-packages/bs4/__init__.py:336: UserWarning: \"http://www.loosechangeguide.com/LooseChangeGuide.html\"\" looks like a URL. Beautiful Soup is not an HTTP client. You should probably use an HTTP client like requests to get the document behind the URL, and feed that document to Beautiful Soup.\n",
            "  ' that document to Beautiful Soup.' % decoded_markup\n",
            "/usr/local/lib/python3.6/dist-packages/bs4/__init__.py:336: UserWarning: \"http://www.msnbc.msn.com/id/4972055/site/newsweek/\"\" looks like a URL. Beautiful Soup is not an HTTP client. You should probably use an HTTP client like requests to get the document behind the URL, and feed that document to Beautiful Soup.\n",
            "  ' that document to Beautiful Soup.' % decoded_markup\n",
            "/usr/local/lib/python3.6/dist-packages/bs4/__init__.py:273: UserWarning: \"b'..'\" looks like a filename, not markup. You should probably open this file and pass the filehandle into Beautiful Soup.\n",
            "  ' Beautiful Soup.' % markup)\n",
            "/usr/local/lib/python3.6/dist-packages/bs4/__init__.py:336: UserWarning: \"http://www.youtube.com/watch?v=a0KSqelmgN8\"\" looks like a URL. Beautiful Soup is not an HTTP client. You should probably use an HTTP client like requests to get the document behind the URL, and feed that document to Beautiful Soup.\n",
            "  ' that document to Beautiful Soup.' % decoded_markup\n",
            "/usr/local/lib/python3.6/dist-packages/bs4/__init__.py:336: UserWarning: \"http://jake-weird.blogspot.com/2007/08/beneath.html\"\" looks like a URL. Beautiful Soup is not an HTTP client. You should probably use an HTTP client like requests to get the document behind the URL, and feed that document to Beautiful Soup.\n",
            "  ' that document to Beautiful Soup.' % decoded_markup\n"
          ],
          "name": "stderr"
        }
      ]
    },
    {
      "cell_type": "code",
      "metadata": {
        "colab": {
          "base_uri": "https://localhost:8080/"
        },
        "id": "iYmqCNhyMsoJ",
        "outputId": "af7791be-3d32-42cb-e4a7-0524100d9b03"
      },
      "source": [
        "len(sentences)"
      ],
      "execution_count": null,
      "outputs": [
        {
          "output_type": "execute_result",
          "data": {
            "text/plain": [
              "795538"
            ]
          },
          "metadata": {
            "tags": []
          },
          "execution_count": 11
        }
      ]
    },
    {
      "cell_type": "code",
      "metadata": {
        "id": "z1fViFiWS34t"
      },
      "source": [
        "# A minor detail to note is the difference between the \"+=\" and \"append\" when it comes to Python lists. In many applications the two are interchangeable, but here they are not. If you are appending a list of lists to another list of lists, \"append\" will only append the first list; you need to use \"+=\" in order to join all of the lists at once.\n",
        "# sentences[1]"
      ],
      "execution_count": null,
      "outputs": []
    },
    {
      "cell_type": "code",
      "metadata": {
        "id": "YEMb8-7vT_lE"
      },
      "source": [
        "# let's make our model now \n",
        "\n",
        "import logging\n",
        "logging.basicConfig(format='%(asctime)s : %(levelname)s : %(message)s',\\\n",
        "    level=logging.INFO)\n",
        "\n",
        "# Set values for various parameters\n",
        "num_features = 300    # Word vector dimensionality                      \n",
        "min_word_count = 40   # Minimum word count                        \n",
        "num_workers = 4       # Number of threads to run in parallel\n",
        "context = 10          # Context window size                                                                                    \n",
        "downsampling = 1e-3   # Downsample setting for frequent words"
      ],
      "execution_count": null,
      "outputs": []
    },
    {
      "cell_type": "code",
      "metadata": {
        "id": "G37tikcxipYh"
      },
      "source": [
        "# !pip install gensim"
      ],
      "execution_count": null,
      "outputs": []
    },
    {
      "cell_type": "code",
      "metadata": {
        "colab": {
          "base_uri": "https://localhost:8080/"
        },
        "id": "ndZAgjLQjbiY",
        "outputId": "d98f74e0-6e31-4187-e07f-103597186e2f"
      },
      "source": [
        "import logging\n",
        "logging.basicConfig(format='%(asctime)s : %(levelname)s : %(message)s',\\\n",
        "    level=logging.INFO)\n",
        "\n",
        "# Set values for various parameters\n",
        "num_features = 300    # Word vector dimensionality                      \n",
        "min_word_count = 40   # Minimum word count                        \n",
        "num_workers = 4       # Number of threads to run in parallel\n",
        "context = 10          # Context window size                                                                                    \n",
        "downsampling = 1e-3   # Downsample setting for frequent words\n",
        "\n",
        "# Initialize and train the model (this will take some time)\n",
        "from gensim.models import word2vec\n",
        "print (\"Training model...\")\n",
        "model = word2vec.Word2Vec(sentences, workers=num_workers, \\\n",
        "            size=num_features, min_count = min_word_count, \\\n",
        "            window = context, sample = downsampling)\n",
        "\n",
        "# If you don't plan to train the model any further, calling \n",
        "# init_sims will make the model much more memory-efficient.\n",
        "model.init_sims(replace=True)\n",
        "\n",
        "# It can be helpful to create a meaningful model name and \n",
        "# save the model for later use. You can load it later using Word2Vec.load()\n",
        "model_name = \"300features_40minwords_10context\"\n",
        "model.save(model_name)"
      ],
      "execution_count": null,
      "outputs": [
        {
          "output_type": "stream",
          "text": [
            "2021-02-18 20:10:47,531 : INFO : 'pattern' package not found; tag filters are not available for English\n",
            "2021-02-18 20:10:47,543 : INFO : collecting all words and their counts\n",
            "2021-02-18 20:10:47,543 : INFO : PROGRESS: at sentence #0, processed 0 words, keeping 0 word types\n",
            "2021-02-18 20:10:47,600 : INFO : PROGRESS: at sentence #10000, processed 225803 words, keeping 17776 word types\n",
            "2021-02-18 20:10:47,662 : INFO : PROGRESS: at sentence #20000, processed 451892 words, keeping 24948 word types\n",
            "2021-02-18 20:10:47,721 : INFO : PROGRESS: at sentence #30000, processed 671315 words, keeping 30034 word types\n"
          ],
          "name": "stderr"
        },
        {
          "output_type": "stream",
          "text": [
            "Training model...\n"
          ],
          "name": "stdout"
        },
        {
          "output_type": "stream",
          "text": [
            "2021-02-18 20:10:47,782 : INFO : PROGRESS: at sentence #40000, processed 897815 words, keeping 34348 word types\n",
            "2021-02-18 20:10:47,845 : INFO : PROGRESS: at sentence #50000, processed 1116963 words, keeping 37761 word types\n",
            "2021-02-18 20:10:47,903 : INFO : PROGRESS: at sentence #60000, processed 1338404 words, keeping 40723 word types\n",
            "2021-02-18 20:10:47,961 : INFO : PROGRESS: at sentence #70000, processed 1561580 words, keeping 43333 word types\n",
            "2021-02-18 20:10:48,022 : INFO : PROGRESS: at sentence #80000, processed 1780887 words, keeping 45714 word types\n",
            "2021-02-18 20:10:48,081 : INFO : PROGRESS: at sentence #90000, processed 2004996 words, keeping 48135 word types\n",
            "2021-02-18 20:10:48,139 : INFO : PROGRESS: at sentence #100000, processed 2226966 words, keeping 50207 word types\n",
            "2021-02-18 20:10:48,196 : INFO : PROGRESS: at sentence #110000, processed 2446580 words, keeping 52081 word types\n",
            "2021-02-18 20:10:48,254 : INFO : PROGRESS: at sentence #120000, processed 2668775 words, keeping 54119 word types\n",
            "2021-02-18 20:10:48,311 : INFO : PROGRESS: at sentence #130000, processed 2894303 words, keeping 55847 word types\n",
            "2021-02-18 20:10:48,370 : INFO : PROGRESS: at sentence #140000, processed 3107005 words, keeping 57346 word types\n",
            "2021-02-18 20:10:48,430 : INFO : PROGRESS: at sentence #150000, processed 3332627 words, keeping 59055 word types\n",
            "2021-02-18 20:10:48,488 : INFO : PROGRESS: at sentence #160000, processed 3555315 words, keeping 60617 word types\n",
            "2021-02-18 20:10:48,548 : INFO : PROGRESS: at sentence #170000, processed 3778655 words, keeping 62077 word types\n",
            "2021-02-18 20:10:48,608 : INFO : PROGRESS: at sentence #180000, processed 3999236 words, keeping 63496 word types\n",
            "2021-02-18 20:10:48,668 : INFO : PROGRESS: at sentence #190000, processed 4224449 words, keeping 64794 word types\n",
            "2021-02-18 20:10:48,730 : INFO : PROGRESS: at sentence #200000, processed 4448603 words, keeping 66087 word types\n",
            "2021-02-18 20:10:48,789 : INFO : PROGRESS: at sentence #210000, processed 4669967 words, keeping 67390 word types\n",
            "2021-02-18 20:10:48,858 : INFO : PROGRESS: at sentence #220000, processed 4894968 words, keeping 68697 word types\n",
            "2021-02-18 20:10:48,921 : INFO : PROGRESS: at sentence #230000, processed 5117545 words, keeping 69958 word types\n",
            "2021-02-18 20:10:48,985 : INFO : PROGRESS: at sentence #240000, processed 5345050 words, keeping 71167 word types\n",
            "2021-02-18 20:10:49,047 : INFO : PROGRESS: at sentence #250000, processed 5559165 words, keeping 72351 word types\n",
            "2021-02-18 20:10:49,112 : INFO : PROGRESS: at sentence #260000, processed 5779146 words, keeping 73478 word types\n",
            "2021-02-18 20:10:49,174 : INFO : PROGRESS: at sentence #270000, processed 6000435 words, keeping 74767 word types\n",
            "2021-02-18 20:10:49,239 : INFO : PROGRESS: at sentence #280000, processed 6226314 words, keeping 76369 word types\n",
            "2021-02-18 20:10:49,303 : INFO : PROGRESS: at sentence #290000, processed 6449474 words, keeping 77839 word types\n",
            "2021-02-18 20:10:49,366 : INFO : PROGRESS: at sentence #300000, processed 6674077 words, keeping 79171 word types\n",
            "2021-02-18 20:10:49,435 : INFO : PROGRESS: at sentence #310000, processed 6899391 words, keeping 80480 word types\n",
            "2021-02-18 20:10:49,496 : INFO : PROGRESS: at sentence #320000, processed 7124278 words, keeping 81808 word types\n",
            "2021-02-18 20:10:49,557 : INFO : PROGRESS: at sentence #330000, processed 7346021 words, keeping 83030 word types\n",
            "2021-02-18 20:10:49,623 : INFO : PROGRESS: at sentence #340000, processed 7575533 words, keeping 84280 word types\n",
            "2021-02-18 20:10:49,686 : INFO : PROGRESS: at sentence #350000, processed 7798803 words, keeping 85425 word types\n",
            "2021-02-18 20:10:49,747 : INFO : PROGRESS: at sentence #360000, processed 8019427 words, keeping 86596 word types\n",
            "2021-02-18 20:10:49,818 : INFO : PROGRESS: at sentence #370000, processed 8246619 words, keeping 87708 word types\n",
            "2021-02-18 20:10:49,888 : INFO : PROGRESS: at sentence #380000, processed 8471766 words, keeping 88878 word types\n",
            "2021-02-18 20:10:49,956 : INFO : PROGRESS: at sentence #390000, processed 8701497 words, keeping 89907 word types\n",
            "2021-02-18 20:10:50,020 : INFO : PROGRESS: at sentence #400000, processed 8924446 words, keeping 90916 word types\n",
            "2021-02-18 20:10:50,079 : INFO : PROGRESS: at sentence #410000, processed 9145796 words, keeping 91880 word types\n",
            "2021-02-18 20:10:50,144 : INFO : PROGRESS: at sentence #420000, processed 9366876 words, keeping 92912 word types\n",
            "2021-02-18 20:10:50,210 : INFO : PROGRESS: at sentence #430000, processed 9594413 words, keeping 93932 word types\n",
            "2021-02-18 20:10:50,275 : INFO : PROGRESS: at sentence #440000, processed 9821166 words, keeping 94906 word types\n",
            "2021-02-18 20:10:50,340 : INFO : PROGRESS: at sentence #450000, processed 10044928 words, keeping 96036 word types\n",
            "2021-02-18 20:10:50,405 : INFO : PROGRESS: at sentence #460000, processed 10277688 words, keeping 97088 word types\n",
            "2021-02-18 20:10:50,474 : INFO : PROGRESS: at sentence #470000, processed 10505613 words, keeping 97933 word types\n",
            "2021-02-18 20:10:50,535 : INFO : PROGRESS: at sentence #480000, processed 10725997 words, keeping 98862 word types\n",
            "2021-02-18 20:10:50,600 : INFO : PROGRESS: at sentence #490000, processed 10952741 words, keeping 99871 word types\n",
            "2021-02-18 20:10:50,662 : INFO : PROGRESS: at sentence #500000, processed 11174397 words, keeping 100765 word types\n",
            "2021-02-18 20:10:50,726 : INFO : PROGRESS: at sentence #510000, processed 11399672 words, keeping 101699 word types\n",
            "2021-02-18 20:10:50,794 : INFO : PROGRESS: at sentence #520000, processed 11623020 words, keeping 102598 word types\n",
            "2021-02-18 20:10:50,865 : INFO : PROGRESS: at sentence #530000, processed 11847418 words, keeping 103400 word types\n",
            "2021-02-18 20:10:50,946 : INFO : PROGRESS: at sentence #540000, processed 12072033 words, keeping 104265 word types\n",
            "2021-02-18 20:10:51,009 : INFO : PROGRESS: at sentence #550000, processed 12297571 words, keeping 105133 word types\n",
            "2021-02-18 20:10:51,071 : INFO : PROGRESS: at sentence #560000, processed 12518861 words, keeping 105997 word types\n",
            "2021-02-18 20:10:51,135 : INFO : PROGRESS: at sentence #570000, processed 12747916 words, keeping 106787 word types\n",
            "2021-02-18 20:10:51,195 : INFO : PROGRESS: at sentence #580000, processed 12969412 words, keeping 107665 word types\n",
            "2021-02-18 20:10:51,257 : INFO : PROGRESS: at sentence #590000, processed 13194937 words, keeping 108501 word types\n",
            "2021-02-18 20:10:51,317 : INFO : PROGRESS: at sentence #600000, processed 13417135 words, keeping 109218 word types\n",
            "2021-02-18 20:10:51,378 : INFO : PROGRESS: at sentence #610000, processed 13638158 words, keeping 110092 word types\n",
            "2021-02-18 20:10:51,439 : INFO : PROGRESS: at sentence #620000, processed 13864483 words, keeping 110837 word types\n",
            "2021-02-18 20:10:51,508 : INFO : PROGRESS: at sentence #630000, processed 14088769 words, keeping 111610 word types\n",
            "2021-02-18 20:10:51,572 : INFO : PROGRESS: at sentence #640000, processed 14309552 words, keeping 112416 word types\n",
            "2021-02-18 20:10:51,634 : INFO : PROGRESS: at sentence #650000, processed 14535308 words, keeping 113196 word types\n",
            "2021-02-18 20:10:51,696 : INFO : PROGRESS: at sentence #660000, processed 14758098 words, keeping 113945 word types\n",
            "2021-02-18 20:10:51,757 : INFO : PROGRESS: at sentence #670000, processed 14981482 words, keeping 114643 word types\n",
            "2021-02-18 20:10:51,819 : INFO : PROGRESS: at sentence #680000, processed 15206314 words, keeping 115354 word types\n",
            "2021-02-18 20:10:51,886 : INFO : PROGRESS: at sentence #690000, processed 15428507 words, keeping 116131 word types\n",
            "2021-02-18 20:10:51,951 : INFO : PROGRESS: at sentence #700000, processed 15657213 words, keeping 116943 word types\n",
            "2021-02-18 20:10:52,014 : INFO : PROGRESS: at sentence #710000, processed 15880202 words, keeping 117596 word types\n",
            "2021-02-18 20:10:52,075 : INFO : PROGRESS: at sentence #720000, processed 16105489 words, keeping 118221 word types\n",
            "2021-02-18 20:10:52,137 : INFO : PROGRESS: at sentence #730000, processed 16331870 words, keeping 118954 word types\n",
            "2021-02-18 20:10:52,201 : INFO : PROGRESS: at sentence #740000, processed 16552903 words, keeping 119668 word types\n",
            "2021-02-18 20:10:52,262 : INFO : PROGRESS: at sentence #750000, processed 16771230 words, keeping 120295 word types\n",
            "2021-02-18 20:10:52,330 : INFO : PROGRESS: at sentence #760000, processed 16990622 words, keeping 120930 word types\n",
            "2021-02-18 20:10:52,395 : INFO : PROGRESS: at sentence #770000, processed 17217759 words, keeping 121703 word types\n",
            "2021-02-18 20:10:52,460 : INFO : PROGRESS: at sentence #780000, processed 17447905 words, keeping 122402 word types\n",
            "2021-02-18 20:10:52,527 : INFO : PROGRESS: at sentence #790000, processed 17674981 words, keeping 123066 word types\n",
            "2021-02-18 20:10:52,564 : INFO : collected 123504 word types from a corpus of 17798082 raw words and 795538 sentences\n",
            "2021-02-18 20:10:52,565 : INFO : Loading a fresh vocabulary\n",
            "2021-02-18 20:10:52,647 : INFO : effective_min_count=40 retains 16490 unique words (13% of original 123504, drops 107014)\n",
            "2021-02-18 20:10:52,648 : INFO : effective_min_count=40 leaves 17238940 word corpus (96% of original 17798082, drops 559142)\n",
            "2021-02-18 20:10:52,715 : INFO : deleting the raw counts dictionary of 123504 items\n",
            "2021-02-18 20:10:52,722 : INFO : sample=0.001 downsamples 48 most-common words\n",
            "2021-02-18 20:10:52,723 : INFO : downsampling leaves estimated 12749658 word corpus (74.0% of prior 17238940)\n",
            "2021-02-18 20:10:52,792 : INFO : estimated required memory for 16490 words and 300 dimensions: 47821000 bytes\n",
            "2021-02-18 20:10:52,793 : INFO : resetting layer weights\n",
            "2021-02-18 20:10:56,059 : INFO : training model with 4 workers on 16490 vocabulary and 300 features, using sg=0 hs=0 sample=0.001 negative=5 window=10\n",
            "2021-02-18 20:10:57,098 : INFO : EPOCH 1 - PROGRESS: at 2.74% examples, 341709 words/s, in_qsize 6, out_qsize 1\n",
            "2021-02-18 20:10:58,114 : INFO : EPOCH 1 - PROGRESS: at 5.59% examples, 350142 words/s, in_qsize 7, out_qsize 0\n",
            "2021-02-18 20:10:59,127 : INFO : EPOCH 1 - PROGRESS: at 8.39% examples, 348556 words/s, in_qsize 7, out_qsize 0\n",
            "2021-02-18 20:11:00,180 : INFO : EPOCH 1 - PROGRESS: at 11.32% examples, 349774 words/s, in_qsize 6, out_qsize 1\n",
            "2021-02-18 20:11:01,186 : INFO : EPOCH 1 - PROGRESS: at 14.17% examples, 350864 words/s, in_qsize 7, out_qsize 0\n",
            "2021-02-18 20:11:02,205 : INFO : EPOCH 1 - PROGRESS: at 17.00% examples, 350899 words/s, in_qsize 7, out_qsize 0\n",
            "2021-02-18 20:11:03,209 : INFO : EPOCH 1 - PROGRESS: at 19.71% examples, 349499 words/s, in_qsize 6, out_qsize 1\n",
            "2021-02-18 20:11:04,222 : INFO : EPOCH 1 - PROGRESS: at 22.65% examples, 351700 words/s, in_qsize 6, out_qsize 1\n",
            "2021-02-18 20:11:05,248 : INFO : EPOCH 1 - PROGRESS: at 25.33% examples, 350118 words/s, in_qsize 8, out_qsize 2\n",
            "2021-02-18 20:11:06,257 : INFO : EPOCH 1 - PROGRESS: at 28.26% examples, 351611 words/s, in_qsize 7, out_qsize 0\n",
            "2021-02-18 20:11:07,286 : INFO : EPOCH 1 - PROGRESS: at 31.15% examples, 351891 words/s, in_qsize 7, out_qsize 0\n",
            "2021-02-18 20:11:08,306 : INFO : EPOCH 1 - PROGRESS: at 33.99% examples, 351708 words/s, in_qsize 7, out_qsize 0\n",
            "2021-02-18 20:11:09,368 : INFO : EPOCH 1 - PROGRESS: at 36.90% examples, 351594 words/s, in_qsize 4, out_qsize 3\n",
            "2021-02-18 20:11:10,372 : INFO : EPOCH 1 - PROGRESS: at 39.75% examples, 352440 words/s, in_qsize 8, out_qsize 1\n",
            "2021-02-18 20:11:11,405 : INFO : EPOCH 1 - PROGRESS: at 42.58% examples, 352492 words/s, in_qsize 7, out_qsize 0\n",
            "2021-02-18 20:11:12,423 : INFO : EPOCH 1 - PROGRESS: at 45.35% examples, 351992 words/s, in_qsize 6, out_qsize 1\n",
            "2021-02-18 20:11:13,451 : INFO : EPOCH 1 - PROGRESS: at 48.17% examples, 352122 words/s, in_qsize 6, out_qsize 1\n",
            "2021-02-18 20:11:14,472 : INFO : EPOCH 1 - PROGRESS: at 50.96% examples, 352034 words/s, in_qsize 8, out_qsize 3\n",
            "2021-02-18 20:11:15,484 : INFO : EPOCH 1 - PROGRESS: at 53.83% examples, 352444 words/s, in_qsize 7, out_qsize 0\n",
            "2021-02-18 20:11:16,496 : INFO : EPOCH 1 - PROGRESS: at 56.60% examples, 352462 words/s, in_qsize 7, out_qsize 0\n",
            "2021-02-18 20:11:17,497 : INFO : EPOCH 1 - PROGRESS: at 59.39% examples, 353018 words/s, in_qsize 7, out_qsize 0\n",
            "2021-02-18 20:11:18,541 : INFO : EPOCH 1 - PROGRESS: at 62.13% examples, 352213 words/s, in_qsize 7, out_qsize 0\n",
            "2021-02-18 20:11:19,561 : INFO : EPOCH 1 - PROGRESS: at 64.96% examples, 352142 words/s, in_qsize 6, out_qsize 1\n",
            "2021-02-18 20:11:20,561 : INFO : EPOCH 1 - PROGRESS: at 67.75% examples, 352363 words/s, in_qsize 7, out_qsize 0\n",
            "2021-02-18 20:11:21,568 : INFO : EPOCH 1 - PROGRESS: at 70.50% examples, 352202 words/s, in_qsize 7, out_qsize 0\n",
            "2021-02-18 20:11:22,575 : INFO : EPOCH 1 - PROGRESS: at 73.11% examples, 351506 words/s, in_qsize 6, out_qsize 1\n",
            "2021-02-18 20:11:23,581 : INFO : EPOCH 1 - PROGRESS: at 75.88% examples, 351382 words/s, in_qsize 7, out_qsize 0\n",
            "2021-02-18 20:11:24,628 : INFO : EPOCH 1 - PROGRESS: at 78.73% examples, 351272 words/s, in_qsize 7, out_qsize 0\n",
            "2021-02-18 20:11:25,657 : INFO : EPOCH 1 - PROGRESS: at 81.53% examples, 351123 words/s, in_qsize 7, out_qsize 0\n",
            "2021-02-18 20:11:26,727 : INFO : EPOCH 1 - PROGRESS: at 84.50% examples, 351249 words/s, in_qsize 8, out_qsize 0\n",
            "2021-02-18 20:11:27,735 : INFO : EPOCH 1 - PROGRESS: at 87.25% examples, 351141 words/s, in_qsize 6, out_qsize 1\n",
            "2021-02-18 20:11:28,760 : INFO : EPOCH 1 - PROGRESS: at 90.13% examples, 351521 words/s, in_qsize 7, out_qsize 0\n",
            "2021-02-18 20:11:29,764 : INFO : EPOCH 1 - PROGRESS: at 92.95% examples, 351661 words/s, in_qsize 8, out_qsize 0\n",
            "2021-02-18 20:11:30,779 : INFO : EPOCH 1 - PROGRESS: at 95.86% examples, 351875 words/s, in_qsize 7, out_qsize 0\n",
            "2021-02-18 20:11:31,785 : INFO : EPOCH 1 - PROGRESS: at 98.61% examples, 351967 words/s, in_qsize 7, out_qsize 0\n",
            "2021-02-18 20:11:32,240 : INFO : worker thread finished; awaiting finish of 3 more threads\n",
            "2021-02-18 20:11:32,241 : INFO : worker thread finished; awaiting finish of 2 more threads\n",
            "2021-02-18 20:11:32,257 : INFO : worker thread finished; awaiting finish of 1 more threads\n",
            "2021-02-18 20:11:32,271 : INFO : worker thread finished; awaiting finish of 0 more threads\n",
            "2021-02-18 20:11:32,272 : INFO : EPOCH - 1 : training on 17798082 raw words (12748425 effective words) took 36.2s, 352163 effective words/s\n",
            "2021-02-18 20:11:33,304 : INFO : EPOCH 2 - PROGRESS: at 2.62% examples, 329272 words/s, in_qsize 7, out_qsize 0\n",
            "2021-02-18 20:11:34,347 : INFO : EPOCH 2 - PROGRESS: at 5.54% examples, 342970 words/s, in_qsize 6, out_qsize 1\n",
            "2021-02-18 20:11:35,376 : INFO : EPOCH 2 - PROGRESS: at 8.44% examples, 346571 words/s, in_qsize 6, out_qsize 1\n",
            "2021-02-18 20:11:36,393 : INFO : EPOCH 2 - PROGRESS: at 11.26% examples, 347835 words/s, in_qsize 7, out_qsize 0\n",
            "2021-02-18 20:11:37,404 : INFO : EPOCH 2 - PROGRESS: at 14.17% examples, 350644 words/s, in_qsize 7, out_qsize 0\n",
            "2021-02-18 20:11:38,434 : INFO : EPOCH 2 - PROGRESS: at 17.00% examples, 350080 words/s, in_qsize 7, out_qsize 0\n",
            "2021-02-18 20:11:39,435 : INFO : EPOCH 2 - PROGRESS: at 19.88% examples, 351921 words/s, in_qsize 7, out_qsize 0\n",
            "2021-02-18 20:11:40,449 : INFO : EPOCH 2 - PROGRESS: at 22.59% examples, 350293 words/s, in_qsize 7, out_qsize 0\n",
            "2021-02-18 20:11:41,449 : INFO : EPOCH 2 - PROGRESS: at 25.33% examples, 350289 words/s, in_qsize 6, out_qsize 1\n",
            "2021-02-18 20:11:42,475 : INFO : EPOCH 2 - PROGRESS: at 28.20% examples, 350860 words/s, in_qsize 7, out_qsize 2\n",
            "2021-02-18 20:11:43,487 : INFO : EPOCH 2 - PROGRESS: at 30.98% examples, 350349 words/s, in_qsize 7, out_qsize 0\n",
            "2021-02-18 20:11:44,491 : INFO : EPOCH 2 - PROGRESS: at 33.88% examples, 351356 words/s, in_qsize 7, out_qsize 0\n",
            "2021-02-18 20:11:45,509 : INFO : EPOCH 2 - PROGRESS: at 36.56% examples, 350272 words/s, in_qsize 4, out_qsize 3\n",
            "2021-02-18 20:11:46,514 : INFO : EPOCH 2 - PROGRESS: at 39.42% examples, 351213 words/s, in_qsize 7, out_qsize 0\n",
            "2021-02-18 20:11:47,548 : INFO : EPOCH 2 - PROGRESS: at 42.24% examples, 351287 words/s, in_qsize 7, out_qsize 0\n",
            "2021-02-18 20:11:48,562 : INFO : EPOCH 2 - PROGRESS: at 45.06% examples, 351390 words/s, in_qsize 6, out_qsize 1\n",
            "2021-02-18 20:11:49,592 : INFO : EPOCH 2 - PROGRESS: at 47.90% examples, 351522 words/s, in_qsize 6, out_qsize 1\n",
            "2021-02-18 20:11:50,593 : INFO : EPOCH 2 - PROGRESS: at 50.69% examples, 351855 words/s, in_qsize 7, out_qsize 0\n",
            "2021-02-18 20:11:51,602 : INFO : EPOCH 2 - PROGRESS: at 53.50% examples, 351989 words/s, in_qsize 5, out_qsize 2\n",
            "2021-02-18 20:11:52,632 : INFO : EPOCH 2 - PROGRESS: at 56.32% examples, 352080 words/s, in_qsize 5, out_qsize 2\n",
            "2021-02-18 20:11:53,650 : INFO : EPOCH 2 - PROGRESS: at 59.06% examples, 352206 words/s, in_qsize 7, out_qsize 1\n",
            "2021-02-18 20:11:54,677 : INFO : EPOCH 2 - PROGRESS: at 61.92% examples, 352181 words/s, in_qsize 7, out_qsize 0\n",
            "2021-02-18 20:11:55,743 : INFO : EPOCH 2 - PROGRESS: at 64.89% examples, 352324 words/s, in_qsize 6, out_qsize 1\n",
            "2021-02-18 20:11:56,782 : INFO : EPOCH 2 - PROGRESS: at 67.81% examples, 352570 words/s, in_qsize 4, out_qsize 3\n",
            "2021-02-18 20:11:57,796 : INFO : EPOCH 2 - PROGRESS: at 70.71% examples, 353136 words/s, in_qsize 6, out_qsize 1\n",
            "2021-02-18 20:11:58,817 : INFO : EPOCH 2 - PROGRESS: at 73.56% examples, 353283 words/s, in_qsize 7, out_qsize 0\n",
            "2021-02-18 20:11:59,851 : INFO : EPOCH 2 - PROGRESS: at 76.43% examples, 353261 words/s, in_qsize 7, out_qsize 0\n",
            "2021-02-18 20:12:00,860 : INFO : EPOCH 2 - PROGRESS: at 79.22% examples, 353306 words/s, in_qsize 8, out_qsize 0\n",
            "2021-02-18 20:12:01,865 : INFO : EPOCH 2 - PROGRESS: at 82.03% examples, 353381 words/s, in_qsize 8, out_qsize 1\n",
            "2021-02-18 20:12:02,869 : INFO : EPOCH 2 - PROGRESS: at 84.89% examples, 353711 words/s, in_qsize 7, out_qsize 0\n",
            "2021-02-18 20:12:03,870 : INFO : EPOCH 2 - PROGRESS: at 87.64% examples, 353618 words/s, in_qsize 7, out_qsize 0\n",
            "2021-02-18 20:12:04,878 : INFO : EPOCH 2 - PROGRESS: at 90.48% examples, 353863 words/s, in_qsize 7, out_qsize 0\n",
            "2021-02-18 20:12:05,898 : INFO : EPOCH 2 - PROGRESS: at 93.34% examples, 353963 words/s, in_qsize 7, out_qsize 0\n",
            "2021-02-18 20:12:06,938 : INFO : EPOCH 2 - PROGRESS: at 96.19% examples, 353670 words/s, in_qsize 6, out_qsize 1\n",
            "2021-02-18 20:12:07,938 : INFO : EPOCH 2 - PROGRESS: at 99.05% examples, 354186 words/s, in_qsize 7, out_qsize 0\n",
            "2021-02-18 20:12:08,204 : INFO : worker thread finished; awaiting finish of 3 more threads\n",
            "2021-02-18 20:12:08,240 : INFO : worker thread finished; awaiting finish of 2 more threads\n",
            "2021-02-18 20:12:08,251 : INFO : worker thread finished; awaiting finish of 1 more threads\n",
            "2021-02-18 20:12:08,261 : INFO : worker thread finished; awaiting finish of 0 more threads\n",
            "2021-02-18 20:12:08,264 : INFO : EPOCH - 2 : training on 17798082 raw words (12749572 effective words) took 36.0s, 354344 effective words/s\n",
            "2021-02-18 20:12:09,292 : INFO : EPOCH 3 - PROGRESS: at 2.68% examples, 338385 words/s, in_qsize 6, out_qsize 1\n",
            "2021-02-18 20:12:10,297 : INFO : EPOCH 3 - PROGRESS: at 5.54% examples, 350565 words/s, in_qsize 7, out_qsize 0\n",
            "2021-02-18 20:12:11,332 : INFO : EPOCH 3 - PROGRESS: at 8.50% examples, 353403 words/s, in_qsize 7, out_qsize 0\n",
            "2021-02-18 20:12:12,351 : INFO : EPOCH 3 - PROGRESS: at 11.32% examples, 352978 words/s, in_qsize 8, out_qsize 1\n",
            "2021-02-18 20:12:13,367 : INFO : EPOCH 3 - PROGRESS: at 14.29% examples, 355647 words/s, in_qsize 7, out_qsize 0\n",
            "2021-02-18 20:12:14,434 : INFO : EPOCH 3 - PROGRESS: at 17.23% examples, 354491 words/s, in_qsize 7, out_qsize 0\n",
            "2021-02-18 20:12:15,462 : INFO : EPOCH 3 - PROGRESS: at 20.16% examples, 355428 words/s, in_qsize 7, out_qsize 0\n",
            "2021-02-18 20:12:16,478 : INFO : EPOCH 3 - PROGRESS: at 23.05% examples, 355930 words/s, in_qsize 7, out_qsize 0\n",
            "2021-02-18 20:12:17,498 : INFO : EPOCH 3 - PROGRESS: at 25.91% examples, 356098 words/s, in_qsize 7, out_qsize 0\n",
            "2021-02-18 20:12:18,509 : INFO : EPOCH 3 - PROGRESS: at 28.70% examples, 355809 words/s, in_qsize 7, out_qsize 0\n",
            "2021-02-18 20:12:19,541 : INFO : EPOCH 3 - PROGRESS: at 31.67% examples, 356252 words/s, in_qsize 7, out_qsize 2\n",
            "2021-02-18 20:12:20,560 : INFO : EPOCH 3 - PROGRESS: at 34.60% examples, 356906 words/s, in_qsize 7, out_qsize 0\n",
            "2021-02-18 20:12:21,561 : INFO : EPOCH 3 - PROGRESS: at 37.40% examples, 356909 words/s, in_qsize 7, out_qsize 0\n",
            "2021-02-18 20:12:22,562 : INFO : EPOCH 3 - PROGRESS: at 40.24% examples, 357420 words/s, in_qsize 7, out_qsize 0\n",
            "2021-02-18 20:12:23,597 : INFO : EPOCH 3 - PROGRESS: at 43.08% examples, 357079 words/s, in_qsize 7, out_qsize 0\n",
            "2021-02-18 20:12:24,631 : INFO : EPOCH 3 - PROGRESS: at 45.94% examples, 356802 words/s, in_qsize 7, out_qsize 0\n",
            "2021-02-18 20:12:25,632 : INFO : EPOCH 3 - PROGRESS: at 48.82% examples, 357613 words/s, in_qsize 6, out_qsize 1\n",
            "2021-02-18 20:12:26,637 : INFO : EPOCH 3 - PROGRESS: at 51.65% examples, 357531 words/s, in_qsize 7, out_qsize 0\n",
            "2021-02-18 20:12:27,664 : INFO : EPOCH 3 - PROGRESS: at 54.49% examples, 357383 words/s, in_qsize 6, out_qsize 1\n",
            "2021-02-18 20:12:28,665 : INFO : EPOCH 3 - PROGRESS: at 57.26% examples, 357355 words/s, in_qsize 7, out_qsize 0\n",
            "2021-02-18 20:12:29,675 : INFO : EPOCH 3 - PROGRESS: at 60.08% examples, 357512 words/s, in_qsize 7, out_qsize 0\n",
            "2021-02-18 20:12:30,699 : INFO : EPOCH 3 - PROGRESS: at 62.94% examples, 357435 words/s, in_qsize 6, out_qsize 1\n",
            "2021-02-18 20:12:31,738 : INFO : EPOCH 3 - PROGRESS: at 65.85% examples, 357487 words/s, in_qsize 5, out_qsize 2\n",
            "2021-02-18 20:12:32,749 : INFO : EPOCH 3 - PROGRESS: at 68.77% examples, 357927 words/s, in_qsize 7, out_qsize 0\n",
            "2021-02-18 20:12:33,772 : INFO : EPOCH 3 - PROGRESS: at 71.59% examples, 357879 words/s, in_qsize 7, out_qsize 0\n",
            "2021-02-18 20:12:34,774 : INFO : EPOCH 3 - PROGRESS: at 74.57% examples, 358663 words/s, in_qsize 7, out_qsize 0\n",
            "2021-02-18 20:12:35,833 : INFO : EPOCH 3 - PROGRESS: at 77.32% examples, 357583 words/s, in_qsize 7, out_qsize 0\n",
            "2021-02-18 20:12:36,866 : INFO : EPOCH 3 - PROGRESS: at 80.26% examples, 357675 words/s, in_qsize 7, out_qsize 0\n",
            "2021-02-18 20:12:37,878 : INFO : EPOCH 3 - PROGRESS: at 83.05% examples, 357520 words/s, in_qsize 7, out_qsize 1\n",
            "2021-02-18 20:12:38,887 : INFO : EPOCH 3 - PROGRESS: at 85.91% examples, 357659 words/s, in_qsize 6, out_qsize 1\n",
            "2021-02-18 20:12:39,894 : INFO : EPOCH 3 - PROGRESS: at 88.69% examples, 357568 words/s, in_qsize 7, out_qsize 0\n",
            "2021-02-18 20:12:40,894 : INFO : EPOCH 3 - PROGRESS: at 91.60% examples, 358002 words/s, in_qsize 7, out_qsize 0\n",
            "2021-02-18 20:12:41,910 : INFO : EPOCH 3 - PROGRESS: at 94.43% examples, 357823 words/s, in_qsize 7, out_qsize 0\n",
            "2021-02-18 20:12:42,950 : INFO : EPOCH 3 - PROGRESS: at 97.35% examples, 357822 words/s, in_qsize 7, out_qsize 0\n",
            "2021-02-18 20:12:43,818 : INFO : worker thread finished; awaiting finish of 3 more threads\n",
            "2021-02-18 20:12:43,833 : INFO : worker thread finished; awaiting finish of 2 more threads\n",
            "2021-02-18 20:12:43,846 : INFO : worker thread finished; awaiting finish of 1 more threads\n",
            "2021-02-18 20:12:43,847 : INFO : worker thread finished; awaiting finish of 0 more threads\n",
            "2021-02-18 20:12:43,851 : INFO : EPOCH - 3 : training on 17798082 raw words (12749495 effective words) took 35.6s, 358396 effective words/s\n",
            "2021-02-18 20:12:44,874 : INFO : EPOCH 4 - PROGRESS: at 2.79% examples, 354262 words/s, in_qsize 7, out_qsize 0\n",
            "2021-02-18 20:12:45,876 : INFO : EPOCH 4 - PROGRESS: at 5.54% examples, 351953 words/s, in_qsize 7, out_qsize 0\n",
            "2021-02-18 20:12:46,893 : INFO : EPOCH 4 - PROGRESS: at 8.50% examples, 356330 words/s, in_qsize 7, out_qsize 0\n",
            "2021-02-18 20:12:47,897 : INFO : EPOCH 4 - PROGRESS: at 11.26% examples, 354530 words/s, in_qsize 7, out_qsize 0\n",
            "2021-02-18 20:12:48,909 : INFO : EPOCH 4 - PROGRESS: at 14.16% examples, 355859 words/s, in_qsize 7, out_qsize 0\n",
            "2021-02-18 20:12:49,958 : INFO : EPOCH 4 - PROGRESS: at 17.12% examples, 355662 words/s, in_qsize 7, out_qsize 0\n",
            "2021-02-18 20:12:50,981 : INFO : EPOCH 4 - PROGRESS: at 19.99% examples, 355745 words/s, in_qsize 6, out_qsize 1\n",
            "2021-02-18 20:12:51,988 : INFO : EPOCH 4 - PROGRESS: at 22.93% examples, 357432 words/s, in_qsize 7, out_qsize 0\n",
            "2021-02-18 20:12:53,041 : INFO : EPOCH 4 - PROGRESS: at 25.85% examples, 356926 words/s, in_qsize 6, out_qsize 1\n",
            "2021-02-18 20:12:54,045 : INFO : EPOCH 4 - PROGRESS: at 28.70% examples, 357506 words/s, in_qsize 7, out_qsize 0\n",
            "2021-02-18 20:12:55,061 : INFO : EPOCH 4 - PROGRESS: at 31.67% examples, 358275 words/s, in_qsize 7, out_qsize 0\n",
            "2021-02-18 20:12:56,095 : INFO : EPOCH 4 - PROGRESS: at 34.49% examples, 357145 words/s, in_qsize 7, out_qsize 0\n",
            "2021-02-18 20:12:57,106 : INFO : EPOCH 4 - PROGRESS: at 37.40% examples, 357946 words/s, in_qsize 7, out_qsize 1\n",
            "2021-02-18 20:12:58,119 : INFO : EPOCH 4 - PROGRESS: at 40.19% examples, 357628 words/s, in_qsize 7, out_qsize 0\n",
            "2021-02-18 20:12:59,131 : INFO : EPOCH 4 - PROGRESS: at 43.08% examples, 358284 words/s, in_qsize 7, out_qsize 0\n",
            "2021-02-18 20:13:00,172 : INFO : EPOCH 4 - PROGRESS: at 45.94% examples, 357773 words/s, in_qsize 7, out_qsize 0\n",
            "2021-02-18 20:13:01,174 : INFO : EPOCH 4 - PROGRESS: at 48.82% examples, 358567 words/s, in_qsize 7, out_qsize 0\n",
            "2021-02-18 20:13:02,188 : INFO : EPOCH 4 - PROGRESS: at 51.58% examples, 357844 words/s, in_qsize 7, out_qsize 0\n",
            "2021-02-18 20:13:03,200 : INFO : EPOCH 4 - PROGRESS: at 54.43% examples, 357973 words/s, in_qsize 6, out_qsize 1\n",
            "2021-02-18 20:13:04,214 : INFO : EPOCH 4 - PROGRESS: at 57.26% examples, 358048 words/s, in_qsize 7, out_qsize 0\n",
            "2021-02-18 20:13:05,231 : INFO : EPOCH 4 - PROGRESS: at 60.12% examples, 358421 words/s, in_qsize 7, out_qsize 0\n",
            "2021-02-18 20:13:06,252 : INFO : EPOCH 4 - PROGRESS: at 62.88% examples, 357722 words/s, in_qsize 8, out_qsize 0\n",
            "2021-02-18 20:13:07,262 : INFO : EPOCH 4 - PROGRESS: at 65.79% examples, 358181 words/s, in_qsize 7, out_qsize 0\n",
            "2021-02-18 20:13:08,270 : INFO : EPOCH 4 - PROGRESS: at 68.61% examples, 358081 words/s, in_qsize 7, out_qsize 0\n",
            "2021-02-18 20:13:09,300 : INFO : EPOCH 4 - PROGRESS: at 71.43% examples, 357932 words/s, in_qsize 5, out_qsize 2\n",
            "2021-02-18 20:13:10,331 : INFO : EPOCH 4 - PROGRESS: at 74.35% examples, 358025 words/s, in_qsize 7, out_qsize 0\n",
            "2021-02-18 20:13:11,351 : INFO : EPOCH 4 - PROGRESS: at 77.21% examples, 357996 words/s, in_qsize 7, out_qsize 0\n",
            "2021-02-18 20:13:12,360 : INFO : EPOCH 4 - PROGRESS: at 80.08% examples, 358133 words/s, in_qsize 7, out_qsize 0\n",
            "2021-02-18 20:13:13,374 : INFO : EPOCH 4 - PROGRESS: at 82.94% examples, 358198 words/s, in_qsize 6, out_qsize 1\n",
            "2021-02-18 20:13:14,387 : INFO : EPOCH 4 - PROGRESS: at 85.79% examples, 358264 words/s, in_qsize 6, out_qsize 1\n",
            "2021-02-18 20:13:15,395 : INFO : EPOCH 4 - PROGRESS: at 88.58% examples, 358161 words/s, in_qsize 7, out_qsize 0\n",
            "2021-02-18 20:13:16,450 : INFO : EPOCH 4 - PROGRESS: at 91.49% examples, 357974 words/s, in_qsize 8, out_qsize 1\n",
            "2021-02-18 20:13:17,460 : INFO : EPOCH 4 - PROGRESS: at 94.38% examples, 358079 words/s, in_qsize 7, out_qsize 0\n",
            "2021-02-18 20:13:18,467 : INFO : EPOCH 4 - PROGRESS: at 97.23% examples, 358200 words/s, in_qsize 7, out_qsize 0\n",
            "2021-02-18 20:13:19,402 : INFO : worker thread finished; awaiting finish of 3 more threads\n",
            "2021-02-18 20:13:19,413 : INFO : worker thread finished; awaiting finish of 2 more threads\n",
            "2021-02-18 20:13:19,432 : INFO : worker thread finished; awaiting finish of 1 more threads\n",
            "2021-02-18 20:13:19,439 : INFO : worker thread finished; awaiting finish of 0 more threads\n",
            "2021-02-18 20:13:19,440 : INFO : EPOCH - 4 : training on 17798082 raw words (12751903 effective words) took 35.6s, 358435 effective words/s\n",
            "2021-02-18 20:13:20,466 : INFO : EPOCH 5 - PROGRESS: at 2.67% examples, 338244 words/s, in_qsize 5, out_qsize 2\n",
            "2021-02-18 20:13:21,467 : INFO : EPOCH 5 - PROGRESS: at 5.54% examples, 351057 words/s, in_qsize 7, out_qsize 0\n",
            "2021-02-18 20:13:22,524 : INFO : EPOCH 5 - PROGRESS: at 8.56% examples, 353496 words/s, in_qsize 6, out_qsize 1\n",
            "2021-02-18 20:13:23,537 : INFO : EPOCH 5 - PROGRESS: at 11.44% examples, 355073 words/s, in_qsize 6, out_qsize 1\n",
            "2021-02-18 20:13:24,557 : INFO : EPOCH 5 - PROGRESS: at 14.34% examples, 355802 words/s, in_qsize 6, out_qsize 1\n",
            "2021-02-18 20:13:25,579 : INFO : EPOCH 5 - PROGRESS: at 17.29% examples, 357139 words/s, in_qsize 7, out_qsize 0\n",
            "2021-02-18 20:13:26,655 : INFO : EPOCH 5 - PROGRESS: at 20.34% examples, 357319 words/s, in_qsize 6, out_qsize 1\n",
            "2021-02-18 20:13:27,691 : INFO : EPOCH 5 - PROGRESS: at 23.27% examples, 357592 words/s, in_qsize 7, out_qsize 0\n",
            "2021-02-18 20:13:28,708 : INFO : EPOCH 5 - PROGRESS: at 26.18% examples, 358498 words/s, in_qsize 7, out_qsize 0\n",
            "2021-02-18 20:13:29,723 : INFO : EPOCH 5 - PROGRESS: at 28.98% examples, 357770 words/s, in_qsize 8, out_qsize 1\n",
            "2021-02-18 20:13:30,745 : INFO : EPOCH 5 - PROGRESS: at 31.85% examples, 357040 words/s, in_qsize 6, out_qsize 1\n",
            "2021-02-18 20:13:31,765 : INFO : EPOCH 5 - PROGRESS: at 34.76% examples, 357630 words/s, in_qsize 7, out_qsize 0\n",
            "2021-02-18 20:13:32,768 : INFO : EPOCH 5 - PROGRESS: at 37.56% examples, 357540 words/s, in_qsize 6, out_qsize 1\n",
            "2021-02-18 20:13:33,801 : INFO : EPOCH 5 - PROGRESS: at 40.46% examples, 357725 words/s, in_qsize 8, out_qsize 1\n",
            "2021-02-18 20:13:34,837 : INFO : EPOCH 5 - PROGRESS: at 43.36% examples, 357793 words/s, in_qsize 7, out_qsize 0\n",
            "2021-02-18 20:13:35,842 : INFO : EPOCH 5 - PROGRESS: at 46.16% examples, 357677 words/s, in_qsize 6, out_qsize 1\n",
            "2021-02-18 20:13:36,856 : INFO : EPOCH 5 - PROGRESS: at 48.99% examples, 357840 words/s, in_qsize 7, out_qsize 0\n",
            "2021-02-18 20:13:37,872 : INFO : EPOCH 5 - PROGRESS: at 51.81% examples, 357497 words/s, in_qsize 7, out_qsize 0\n",
            "2021-02-18 20:13:38,879 : INFO : EPOCH 5 - PROGRESS: at 54.65% examples, 357725 words/s, in_qsize 7, out_qsize 0\n",
            "2021-02-18 20:13:39,927 : INFO : EPOCH 5 - PROGRESS: at 57.57% examples, 357915 words/s, in_qsize 7, out_qsize 0\n",
            "2021-02-18 20:13:40,945 : INFO : EPOCH 5 - PROGRESS: at 60.36% examples, 357592 words/s, in_qsize 6, out_qsize 1\n",
            "2021-02-18 20:13:41,958 : INFO : EPOCH 5 - PROGRESS: at 63.21% examples, 357712 words/s, in_qsize 7, out_qsize 0\n",
            "2021-02-18 20:13:43,004 : INFO : EPOCH 5 - PROGRESS: at 66.17% examples, 357917 words/s, in_qsize 7, out_qsize 0\n",
            "2021-02-18 20:13:44,033 : INFO : EPOCH 5 - PROGRESS: at 69.04% examples, 357804 words/s, in_qsize 8, out_qsize 1\n",
            "2021-02-18 20:13:45,087 : INFO : EPOCH 5 - PROGRESS: at 71.98% examples, 357873 words/s, in_qsize 6, out_qsize 1\n",
            "2021-02-18 20:13:46,101 : INFO : EPOCH 5 - PROGRESS: at 74.91% examples, 358217 words/s, in_qsize 8, out_qsize 0\n",
            "2021-02-18 20:13:47,118 : INFO : EPOCH 5 - PROGRESS: at 77.72% examples, 357978 words/s, in_qsize 7, out_qsize 0\n",
            "2021-02-18 20:13:48,121 : INFO : EPOCH 5 - PROGRESS: at 80.53% examples, 357931 words/s, in_qsize 6, out_qsize 0\n",
            "2021-02-18 20:13:49,156 : INFO : EPOCH 5 - PROGRESS: at 83.45% examples, 357989 words/s, in_qsize 7, out_qsize 0\n",
            "2021-02-18 20:13:50,200 : INFO : EPOCH 5 - PROGRESS: at 86.37% examples, 357927 words/s, in_qsize 5, out_qsize 2\n",
            "2021-02-18 20:13:51,220 : INFO : EPOCH 5 - PROGRESS: at 89.26% examples, 358133 words/s, in_qsize 7, out_qsize 0\n",
            "2021-02-18 20:13:52,233 : INFO : EPOCH 5 - PROGRESS: at 92.21% examples, 358642 words/s, in_qsize 7, out_qsize 0\n",
            "2021-02-18 20:13:53,268 : INFO : EPOCH 5 - PROGRESS: at 95.11% examples, 358444 words/s, in_qsize 6, out_qsize 1\n",
            "2021-02-18 20:13:54,276 : INFO : EPOCH 5 - PROGRESS: at 97.89% examples, 358400 words/s, in_qsize 7, out_qsize 0\n",
            "2021-02-18 20:13:54,950 : INFO : worker thread finished; awaiting finish of 3 more threads\n",
            "2021-02-18 20:13:54,963 : INFO : worker thread finished; awaiting finish of 2 more threads\n",
            "2021-02-18 20:13:54,977 : INFO : worker thread finished; awaiting finish of 1 more threads\n",
            "2021-02-18 20:13:54,993 : INFO : worker thread finished; awaiting finish of 0 more threads\n",
            "2021-02-18 20:13:54,994 : INFO : EPOCH - 5 : training on 17798082 raw words (12750584 effective words) took 35.5s, 358726 effective words/s\n",
            "2021-02-18 20:13:54,995 : INFO : training on a 88990410 raw words (63749979 effective words) took 178.9s, 356274 effective words/s\n",
            "2021-02-18 20:13:54,998 : INFO : precomputing L2-norms of word weight vectors\n",
            "2021-02-18 20:13:55,157 : INFO : saving Word2Vec object under 300features_40minwords_10context, separately None\n",
            "2021-02-18 20:13:55,159 : INFO : not storing attribute vectors_norm\n",
            "2021-02-18 20:13:55,161 : INFO : not storing attribute cum_table\n",
            "2021-02-18 20:13:55,884 : INFO : saved 300features_40minwords_10context\n"
          ],
          "name": "stderr"
        }
      ]
    },
    {
      "cell_type": "code",
      "metadata": {
        "id": "E6BUulJdjspS",
        "colab": {
          "base_uri": "https://localhost:8080/",
          "height": 124
        },
        "outputId": "21a4ef23-6c76-4619-9995-c722baf6a2a1"
      },
      "source": [
        "model.doesnt_match(\"man woman child kitchen\".split())"
      ],
      "execution_count": null,
      "outputs": [
        {
          "output_type": "stream",
          "text": [
            "/usr/local/lib/python3.6/dist-packages/ipykernel_launcher.py:1: DeprecationWarning: Call to deprecated `doesnt_match` (Method will be removed in 4.0.0, use self.wv.doesnt_match() instead).\n",
            "  \"\"\"Entry point for launching an IPython kernel.\n",
            "/usr/local/lib/python3.6/dist-packages/gensim/models/keyedvectors.py:895: FutureWarning: arrays to stack must be passed as a \"sequence\" type such as list or tuple. Support for non-sequence iterables such as generators is deprecated as of NumPy 1.16 and will raise an error in the future.\n",
            "  vectors = vstack(self.word_vec(word, use_norm=True) for word in used_words).astype(REAL)\n"
          ],
          "name": "stderr"
        },
        {
          "output_type": "execute_result",
          "data": {
            "application/vnd.google.colaboratory.intrinsic+json": {
              "type": "string"
            },
            "text/plain": [
              "'kitchen'"
            ]
          },
          "metadata": {
            "tags": []
          },
          "execution_count": 16
        }
      ]
    },
    {
      "cell_type": "code",
      "metadata": {
        "id": "0XP5PydflSiu",
        "colab": {
          "base_uri": "https://localhost:8080/",
          "height": 124
        },
        "outputId": "93416d76-c095-49a1-e86e-319b70d2aef6"
      },
      "source": [
        "model.doesnt_match(\"beach mountain ocean fountain\".split())\n",
        "\n"
      ],
      "execution_count": null,
      "outputs": [
        {
          "output_type": "stream",
          "text": [
            "/usr/local/lib/python3.6/dist-packages/ipykernel_launcher.py:1: DeprecationWarning: Call to deprecated `doesnt_match` (Method will be removed in 4.0.0, use self.wv.doesnt_match() instead).\n",
            "  \"\"\"Entry point for launching an IPython kernel.\n",
            "/usr/local/lib/python3.6/dist-packages/gensim/models/keyedvectors.py:895: FutureWarning: arrays to stack must be passed as a \"sequence\" type such as list or tuple. Support for non-sequence iterables such as generators is deprecated as of NumPy 1.16 and will raise an error in the future.\n",
            "  vectors = vstack(self.word_vec(word, use_norm=True) for word in used_words).astype(REAL)\n"
          ],
          "name": "stderr"
        },
        {
          "output_type": "execute_result",
          "data": {
            "application/vnd.google.colaboratory.intrinsic+json": {
              "type": "string"
            },
            "text/plain": [
              "'fountain'"
            ]
          },
          "metadata": {
            "tags": []
          },
          "execution_count": 17
        }
      ]
    },
    {
      "cell_type": "code",
      "metadata": {
        "id": "nFx3lz8ElVpF",
        "colab": {
          "base_uri": "https://localhost:8080/"
        },
        "outputId": "5cafdd3d-a06d-4ada-fd23-e8ac8d4dc3cd"
      },
      "source": [
        "model.most_similar(\"awful\")"
      ],
      "execution_count": null,
      "outputs": [
        {
          "output_type": "stream",
          "text": [
            "/usr/local/lib/python3.6/dist-packages/ipykernel_launcher.py:1: DeprecationWarning: Call to deprecated `most_similar` (Method will be removed in 4.0.0, use self.wv.most_similar() instead).\n",
            "  \"\"\"Entry point for launching an IPython kernel.\n"
          ],
          "name": "stderr"
        },
        {
          "output_type": "execute_result",
          "data": {
            "text/plain": [
              "[('terrible', 0.7757080793380737),\n",
              " ('atrocious', 0.7390279769897461),\n",
              " ('horrendous', 0.7360638380050659),\n",
              " ('horrible', 0.7312006950378418),\n",
              " ('dreadful', 0.7199947834014893),\n",
              " ('abysmal', 0.7197443842887878),\n",
              " ('appalling', 0.6712253093719482),\n",
              " ('horrid', 0.6556296348571777),\n",
              " ('lousy', 0.6267865896224976),\n",
              " ('laughable', 0.615435004234314)]"
            ]
          },
          "metadata": {
            "tags": []
          },
          "execution_count": 18
        }
      ]
    },
    {
      "cell_type": "code",
      "metadata": {
        "colab": {
          "base_uri": "https://localhost:8080/"
        },
        "id": "vjgrNq7asSc7",
        "outputId": "0b4b8362-2e47-4647-8d93-66934869c339"
      },
      "source": [
        "# Here comes more fun with Word Vectors \n",
        "\n",
        "from gensim.models import Word2Vec\n",
        "model = Word2Vec.load(\"300features_40minwords_10context\")\n"
      ],
      "execution_count": null,
      "outputs": [
        {
          "output_type": "stream",
          "text": [
            "2021-02-18 20:13:55,951 : INFO : loading Word2Vec object from 300features_40minwords_10context\n",
            "2021-02-18 20:13:56,360 : INFO : loading wv recursively from 300features_40minwords_10context.wv.* with mmap=None\n",
            "2021-02-18 20:13:56,361 : INFO : setting ignored attribute vectors_norm to None\n",
            "2021-02-18 20:13:56,362 : INFO : loading vocabulary recursively from 300features_40minwords_10context.vocabulary.* with mmap=None\n",
            "2021-02-18 20:13:56,365 : INFO : loading trainables recursively from 300features_40minwords_10context.trainables.* with mmap=None\n",
            "2021-02-18 20:13:56,369 : INFO : setting ignored attribute cum_table to None\n",
            "2021-02-18 20:13:56,372 : INFO : loaded 300features_40minwords_10context\n"
          ],
          "name": "stderr"
        }
      ]
    },
    {
      "cell_type": "code",
      "metadata": {
        "id": "L8iorNVqvAQF",
        "colab": {
          "base_uri": "https://localhost:8080/"
        },
        "outputId": "5f3d982e-d8b9-40b9-e6a7-0e16ed69b7c5"
      },
      "source": [
        "model1 = model.wv.syn0\n",
        "print(model1.shape)"
      ],
      "execution_count": null,
      "outputs": [
        {
          "output_type": "stream",
          "text": [
            "(16490, 300)\n"
          ],
          "name": "stdout"
        },
        {
          "output_type": "stream",
          "text": [
            "/usr/local/lib/python3.6/dist-packages/ipykernel_launcher.py:1: DeprecationWarning: Call to deprecated `syn0` (Attribute will be removed in 4.0.0, use self.wv.vectors instead).\n",
            "  \"\"\"Entry point for launching an IPython kernel.\n"
          ],
          "name": "stderr"
        }
      ]
    },
    {
      "cell_type": "code",
      "metadata": {
        "colab": {
          "base_uri": "https://localhost:8080/"
        },
        "id": "MmwxBzLDEPbJ",
        "outputId": "238aa774-8978-43b0-dafd-3b399177e160"
      },
      "source": [
        "model[\"sex\"].shape"
      ],
      "execution_count": null,
      "outputs": [
        {
          "output_type": "stream",
          "text": [
            "/usr/local/lib/python3.6/dist-packages/ipykernel_launcher.py:1: DeprecationWarning: Call to deprecated `__getitem__` (Method will be removed in 4.0.0, use self.wv.__getitem__() instead).\n",
            "  \"\"\"Entry point for launching an IPython kernel.\n"
          ],
          "name": "stderr"
        },
        {
          "output_type": "execute_result",
          "data": {
            "text/plain": [
              "(300,)"
            ]
          },
          "metadata": {
            "tags": []
          },
          "execution_count": 21
        }
      ]
    },
    {
      "cell_type": "code",
      "metadata": {
        "id": "M61xW-x2FICJ"
      },
      "source": [
        "# From Words To Paragraphs, Attempt 1: Vector Averaging\n",
        "import numpy as np  # Make sure that numpy is imported\n",
        "\n",
        "def makeFeatureVec(words, model, num_features):\n",
        "    # Function to average all of the word vectors in a given\n",
        "    # paragraph\n",
        "    #\n",
        "    # Pre-initialize an empty numpy array (for speed)\n",
        "    featureVec = np.zeros((num_features,),dtype=\"float32\")\n",
        "    #\n",
        "    nwords = 0.\n",
        "    # \n",
        "    # Index2word is a list that contains the names of the words in \n",
        "    # the model's vocabulary. Convert it to a set, for speed \n",
        "    index2word_set = set(model.wv.index2word)\n",
        "    #\n",
        "    # Loop over each word in the review and, if it is in the model's\n",
        "    # vocaublary, add its feature vector to the total\n",
        "    for word in words:\n",
        "        if word in index2word_set: \n",
        "            nwords = nwords + 1.\n",
        "            featureVec = np.add(featureVec,model[word])\n",
        "    # \n",
        "    # Divide the result by the number of words to get the average\n",
        "    featureVec = np.divide(featureVec,nwords)\n",
        "    return featureVec\n",
        "\n",
        "\n",
        "def getAvgFeatureVecs(reviews, model, num_features):\n",
        "    # Given a set of reviews (each one a list of words), calculate \n",
        "    # the average feature vector for each one and return a 2D numpy array \n",
        "    # \n",
        "    # Initialize a counter\n",
        "    counter = 0.\n",
        "    # \n",
        "    # Preallocate a 2D numpy array, for speed\n",
        "    reviewFeatureVecs = np.zeros((len(reviews),num_features),dtype=\"float32\")\n",
        "    # \n",
        "    # Loop through the reviews\n",
        "    for review in reviews:\n",
        "       #\n",
        "       # Print a status message every 1000th review\n",
        "       if counter%1000. == 0.:\n",
        "           print (\"Review %d of %d\" % (counter, len(reviews)))\n",
        "       # \n",
        "       # Call the function (defined above) that makes average feature vectors\n",
        "       reviewFeatureVecs[int(counter)] = makeFeatureVec(review, model, \\\n",
        "           num_features)\n",
        "       #\n",
        "       # Increment the counter\n",
        "       counter = counter + 1.\n",
        "    return reviewFeatureVecs"
      ],
      "execution_count": null,
      "outputs": []
    },
    {
      "cell_type": "code",
      "metadata": {
        "id": "jFbXpMPctXUN",
        "colab": {
          "base_uri": "https://localhost:8080/"
        },
        "outputId": "96088c85-e488-4aec-dc66-393ff4c07c37"
      },
      "source": [
        "import nltk\n",
        "nltk.download('stopwords')"
      ],
      "execution_count": null,
      "outputs": [
        {
          "output_type": "stream",
          "text": [
            "[nltk_data] Downloading package stopwords to /root/nltk_data...\n",
            "[nltk_data]   Unzipping corpora/stopwords.zip.\n"
          ],
          "name": "stdout"
        },
        {
          "output_type": "execute_result",
          "data": {
            "text/plain": [
              "True"
            ]
          },
          "metadata": {
            "tags": []
          },
          "execution_count": 25
        }
      ]
    },
    {
      "cell_type": "code",
      "metadata": {
        "colab": {
          "base_uri": "https://localhost:8080/"
        },
        "id": "_cT0YLlNfrKj",
        "outputId": "ff00d032-cceb-4c7e-89c9-f51cbeb49814"
      },
      "source": [
        "clean_train_reviews = [ ]\n",
        "for review in train[\"review\"]:\n",
        "    clean_train_reviews.append( review_to_wordlist( review, remove_stopwords=True ))\n",
        "\n",
        "trainDataVecs = getAvgFeatureVecs(clean_train_reviews, model, num_features)\n",
        "\n",
        "print (\"Creating average feature vecs for test reviews\")\n",
        "clean_test_reviews = [ ]\n",
        "for review in test[\"review\"]:\n",
        "    clean_test_reviews.append( review_to_wordlist( review, remove_stopwords=True ))\n",
        "\n",
        "testDataVecs = getAvgFeatureVecs(clean_test_reviews, model, num_features)"
      ],
      "execution_count": null,
      "outputs": [
        {
          "output_type": "stream",
          "text": [
            "Review 0 of 25000\n"
          ],
          "name": "stdout"
        },
        {
          "output_type": "stream",
          "text": [
            "/usr/local/lib/python3.6/dist-packages/ipykernel_launcher.py:22: DeprecationWarning: Call to deprecated `__getitem__` (Method will be removed in 4.0.0, use self.wv.__getitem__() instead).\n"
          ],
          "name": "stderr"
        },
        {
          "output_type": "stream",
          "text": [
            "Review 1000 of 25000\n",
            "Review 2000 of 25000\n",
            "Review 3000 of 25000\n",
            "Review 4000 of 25000\n",
            "Review 5000 of 25000\n",
            "Review 6000 of 25000\n",
            "Review 7000 of 25000\n",
            "Review 8000 of 25000\n",
            "Review 9000 of 25000\n",
            "Review 10000 of 25000\n",
            "Review 11000 of 25000\n",
            "Review 12000 of 25000\n",
            "Review 13000 of 25000\n",
            "Review 14000 of 25000\n",
            "Review 15000 of 25000\n",
            "Review 16000 of 25000\n",
            "Review 17000 of 25000\n",
            "Review 18000 of 25000\n",
            "Review 19000 of 25000\n",
            "Review 20000 of 25000\n",
            "Review 21000 of 25000\n",
            "Review 22000 of 25000\n",
            "Review 23000 of 25000\n",
            "Review 24000 of 25000\n",
            "Creating average feature vecs for test reviews\n",
            "Review 0 of 25000\n",
            "Review 1000 of 25000\n",
            "Review 2000 of 25000\n",
            "Review 3000 of 25000\n",
            "Review 4000 of 25000\n",
            "Review 5000 of 25000\n",
            "Review 6000 of 25000\n",
            "Review 7000 of 25000\n",
            "Review 8000 of 25000\n",
            "Review 9000 of 25000\n",
            "Review 10000 of 25000\n",
            "Review 11000 of 25000\n",
            "Review 12000 of 25000\n",
            "Review 13000 of 25000\n",
            "Review 14000 of 25000\n",
            "Review 15000 of 25000\n",
            "Review 16000 of 25000\n",
            "Review 17000 of 25000\n",
            "Review 18000 of 25000\n",
            "Review 19000 of 25000\n",
            "Review 20000 of 25000\n",
            "Review 21000 of 25000\n",
            "Review 22000 of 25000\n",
            "Review 23000 of 25000\n",
            "Review 24000 of 25000\n"
          ],
          "name": "stdout"
        }
      ]
    },
    {
      "cell_type": "code",
      "metadata": {
        "id": "jLIXMvxrrVo3",
        "colab": {
          "base_uri": "https://localhost:8080/",
          "height": 35
        },
        "outputId": "9337fa40-ba69-408f-f0d9-e45443a9e4d8"
      },
      "source": [
        "# Fit a random forest to the training data, using 100 trees\n",
        "from sklearn.ensemble import RandomForestClassifier\n",
        "forest = RandomForestClassifier( n_estimators = 100 )\n",
        "\n",
        "print (\"Fitting a random forest to labeled training data...\")\n",
        "forest = forest.fit( trainDataVecs, train[\"sentiment\"] )\n",
        "\n",
        "# Test & extract results \n",
        "result = forest.predict( testDataVecs )\n",
        "\n",
        "# Write the test results \n",
        "output = pd.DataFrame( data={\"id\":test[\"id\"], \"sentiment\":result} )\n",
        "from google.colab import files\n",
        "output.to_csv(\"testresult.csv\", index=False, quoting=3)\n",
        "files.download('testresult.csv')"
      ],
      "execution_count": null,
      "outputs": [
        {
          "output_type": "stream",
          "text": [
            "Fitting a random forest to labeled training data...\n"
          ],
          "name": "stdout"
        },
        {
          "output_type": "display_data",
          "data": {
            "application/javascript": [
              "\n",
              "    async function download(id, filename, size) {\n",
              "      if (!google.colab.kernel.accessAllowed) {\n",
              "        return;\n",
              "      }\n",
              "      const div = document.createElement('div');\n",
              "      const label = document.createElement('label');\n",
              "      label.textContent = `Downloading \"${filename}\": `;\n",
              "      div.appendChild(label);\n",
              "      const progress = document.createElement('progress');\n",
              "      progress.max = size;\n",
              "      div.appendChild(progress);\n",
              "      document.body.appendChild(div);\n",
              "\n",
              "      const buffers = [];\n",
              "      let downloaded = 0;\n",
              "\n",
              "      const channel = await google.colab.kernel.comms.open(id);\n",
              "      // Send a message to notify the kernel that we're ready.\n",
              "      channel.send({})\n",
              "\n",
              "      for await (const message of channel.messages) {\n",
              "        // Send a message to notify the kernel that we're ready.\n",
              "        channel.send({})\n",
              "        if (message.buffers) {\n",
              "          for (const buffer of message.buffers) {\n",
              "            buffers.push(buffer);\n",
              "            downloaded += buffer.byteLength;\n",
              "            progress.value = downloaded;\n",
              "          }\n",
              "        }\n",
              "      }\n",
              "      const blob = new Blob(buffers, {type: 'application/binary'});\n",
              "      const a = document.createElement('a');\n",
              "      a.href = window.URL.createObjectURL(blob);\n",
              "      a.download = filename;\n",
              "      div.appendChild(a);\n",
              "      a.click();\n",
              "      div.remove();\n",
              "    }\n",
              "  "
            ],
            "text/plain": [
              "<IPython.core.display.Javascript object>"
            ]
          },
          "metadata": {
            "tags": []
          }
        },
        {
          "output_type": "display_data",
          "data": {
            "application/javascript": [
              "download(\"download_e768e90d-f50e-4cde-bac4-931b0f9a97be\", \"testresult.csv\", 282792)"
            ],
            "text/plain": [
              "<IPython.core.display.Javascript object>"
            ]
          },
          "metadata": {
            "tags": []
          }
        }
      ]
    },
    {
      "cell_type": "code",
      "metadata": {
        "colab": {
          "base_uri": "https://localhost:8080/",
          "height": 416
        },
        "id": "Fi24OHeUicEu",
        "outputId": "155cb80a-21d3-4e43-87b9-8c48b798b3c3"
      },
      "source": [
        "res = pd.read_csv( \"testresult.csv\", header=0,delimiter=\",\", quoting=3 )\n",
        "res"
      ],
      "execution_count": null,
      "outputs": [
        {
          "output_type": "execute_result",
          "data": {
            "text/html": [
              "<div>\n",
              "<style scoped>\n",
              "    .dataframe tbody tr th:only-of-type {\n",
              "        vertical-align: middle;\n",
              "    }\n",
              "\n",
              "    .dataframe tbody tr th {\n",
              "        vertical-align: top;\n",
              "    }\n",
              "\n",
              "    .dataframe thead th {\n",
              "        text-align: right;\n",
              "    }\n",
              "</style>\n",
              "<table border=\"1\" class=\"dataframe\">\n",
              "  <thead>\n",
              "    <tr style=\"text-align: right;\">\n",
              "      <th></th>\n",
              "      <th>id</th>\n",
              "      <th>sentiment</th>\n",
              "    </tr>\n",
              "  </thead>\n",
              "  <tbody>\n",
              "    <tr>\n",
              "      <th>0</th>\n",
              "      <td>\"12311_10\"</td>\n",
              "      <td>1</td>\n",
              "    </tr>\n",
              "    <tr>\n",
              "      <th>1</th>\n",
              "      <td>\"8348_2\"</td>\n",
              "      <td>0</td>\n",
              "    </tr>\n",
              "    <tr>\n",
              "      <th>2</th>\n",
              "      <td>\"5828_4\"</td>\n",
              "      <td>1</td>\n",
              "    </tr>\n",
              "    <tr>\n",
              "      <th>3</th>\n",
              "      <td>\"7186_2\"</td>\n",
              "      <td>0</td>\n",
              "    </tr>\n",
              "    <tr>\n",
              "      <th>4</th>\n",
              "      <td>\"12128_7\"</td>\n",
              "      <td>1</td>\n",
              "    </tr>\n",
              "    <tr>\n",
              "      <th>...</th>\n",
              "      <td>...</td>\n",
              "      <td>...</td>\n",
              "    </tr>\n",
              "    <tr>\n",
              "      <th>24995</th>\n",
              "      <td>\"2155_10\"</td>\n",
              "      <td>1</td>\n",
              "    </tr>\n",
              "    <tr>\n",
              "      <th>24996</th>\n",
              "      <td>\"59_10\"</td>\n",
              "      <td>1</td>\n",
              "    </tr>\n",
              "    <tr>\n",
              "      <th>24997</th>\n",
              "      <td>\"2531_1\"</td>\n",
              "      <td>1</td>\n",
              "    </tr>\n",
              "    <tr>\n",
              "      <th>24998</th>\n",
              "      <td>\"7772_8\"</td>\n",
              "      <td>1</td>\n",
              "    </tr>\n",
              "    <tr>\n",
              "      <th>24999</th>\n",
              "      <td>\"11465_10\"</td>\n",
              "      <td>0</td>\n",
              "    </tr>\n",
              "  </tbody>\n",
              "</table>\n",
              "<p>25000 rows × 2 columns</p>\n",
              "</div>"
            ],
            "text/plain": [
              "               id  sentiment\n",
              "0      \"12311_10\"          1\n",
              "1        \"8348_2\"          0\n",
              "2        \"5828_4\"          1\n",
              "3        \"7186_2\"          0\n",
              "4       \"12128_7\"          1\n",
              "...           ...        ...\n",
              "24995   \"2155_10\"          1\n",
              "24996     \"59_10\"          1\n",
              "24997    \"2531_1\"          1\n",
              "24998    \"7772_8\"          1\n",
              "24999  \"11465_10\"          0\n",
              "\n",
              "[25000 rows x 2 columns]"
            ]
          },
          "metadata": {
            "tags": []
          },
          "execution_count": 28
        }
      ]
    },
    {
      "cell_type": "code",
      "metadata": {
        "id": "9cs57hLfqCtz"
      },
      "source": [
        "# From Words to Paragraphs, Attempt 2: Clustering "
      ],
      "execution_count": null,
      "outputs": []
    },
    {
      "cell_type": "code",
      "metadata": {
        "colab": {
          "base_uri": "https://localhost:8080/"
        },
        "id": "MUx36ZqmyDYN",
        "outputId": "d1571f6f-7665-4747-b23f-2902a3621a0d"
      },
      "source": [
        "from sklearn.cluster import KMeans\n",
        "import time\n",
        "\n",
        "start = time.time() # Start time\n",
        "\n",
        "# Set \"k\" (num_clusters) to be 1/5th of the vocabulary size, or an\n",
        "# average of 5 words per cluster\n",
        "word_vectors = model.wv.syn0\n",
        "num_clusters = int(word_vectors.shape[0] / 5)\n",
        "\n",
        "# Initalize a k-means object and use it to extract centroids\n",
        "kmeans_clustering = KMeans( n_clusters = num_clusters )\n",
        "idx = kmeans_clustering.fit_predict( word_vectors )\n",
        "\n",
        "# Get the end time and print how long the process took\n",
        "end = time.time()\n",
        "elapsed = end - start\n",
        "print (\"Time taken for K Means clustering: \", elapsed, \"seconds.\")"
      ],
      "execution_count": null,
      "outputs": [
        {
          "output_type": "stream",
          "text": [
            "/usr/local/lib/python3.6/dist-packages/ipykernel_launcher.py:8: DeprecationWarning: Call to deprecated `syn0` (Attribute will be removed in 4.0.0, use self.wv.vectors instead).\n",
            "  \n"
          ],
          "name": "stderr"
        },
        {
          "output_type": "stream",
          "text": [
            "Time taken for K Means clustering:  1767.713036775589 seconds.\n"
          ],
          "name": "stdout"
        }
      ]
    },
    {
      "cell_type": "code",
      "metadata": {
        "colab": {
          "base_uri": "https://localhost:8080/"
        },
        "id": "lheUfEBgym1z",
        "outputId": "72a58642-73f6-42c7-f4ad-b3205e134142"
      },
      "source": [
        "import datetime\n",
        "time = str(datetime.timedelta(seconds=1767.713036775589))\n",
        "print('took fooking', time, 'on google colab')"
      ],
      "execution_count": null,
      "outputs": [
        {
          "output_type": "stream",
          "text": [
            "took fooking 0:29:27.713037 on google colab\n"
          ],
          "name": "stdout"
        }
      ]
    },
    {
      "cell_type": "code",
      "metadata": {
        "id": "6x7c40z96KlT"
      },
      "source": [
        "# Create a Word / Index dictionary, mapping each vocabulary word to\n",
        "# a cluster number                                                                                            \n",
        "word_centroid_map = dict(zip( model.wv.index2word, idx ))\n"
      ],
      "execution_count": null,
      "outputs": []
    },
    {
      "cell_type": "code",
      "metadata": {
        "id": "HDmqoCUkBrvc"
      },
      "source": [
        "# len(word_centroid_map.values())\n",
        "# word_centroid_map.keys()\n",
        "\n",
        "# dm = list(word_centroid_map.values())\n"
      ],
      "execution_count": null,
      "outputs": []
    },
    {
      "cell_type": "code",
      "metadata": {
        "colab": {
          "base_uri": "https://localhost:8080/"
        },
        "id": "rXFq16-mN0tw",
        "outputId": "cb3fc34f-30f4-4117-b303-9cdc5ff07559"
      },
      "source": [
        "# For the first 10 clusters\n",
        "for cluster in range(0,10):\n",
        "    #\n",
        "    # Print the cluster number  \n",
        "    print (\"\\nCluster %d\" % cluster)\n",
        "    #\n",
        "    # Find all of the words for that cluster number, and print them out\n",
        "    words = []\n",
        "    for i in range(0,len(list(word_centroid_map.values()))):\n",
        "        if( list(word_centroid_map.values())[i] == cluster ):\n",
        "            words.append(list(word_centroid_map.keys())[i])\n",
        "    print (words)"
      ],
      "execution_count": null,
      "outputs": [
        {
          "output_type": "stream",
          "text": [
            "\n",
            "Cluster 0\n",
            "['sea', 'mountain', 'bridge', 'roof', 'map', 'highway', 'pole', 'sidewalk', 'pier', 'waterfall']\n",
            "\n",
            "Cluster 1\n",
            "['consequently', 'cynicism', 'optimism', 'discomfort', 'repulsion', 'identification']\n",
            "\n",
            "Cluster 2\n",
            "['newcomer', 'playwright', 'kristofferson']\n",
            "\n",
            "Cluster 3\n",
            "['super', 'toy', 'dinosaur', 'crocodile', 'martian', 'dungeons', 'raptor', 'goblin']\n",
            "\n",
            "Cluster 4\n",
            "['inexcusable', 'asinine']\n",
            "\n",
            "Cluster 5\n",
            "['unknown', 'empty', 'abandoned', 'underground', 'isolated', 'exclusive', 'idyllic']\n",
            "\n",
            "Cluster 6\n",
            "['factory', 'plant', 'construction', 'poison', 'drill', 'rig', 'vacuum', 'drilling', 'plutonium']\n",
            "\n",
            "Cluster 7\n",
            "['south', 'land', 'park', 'north', 'east', 'africa', 'border', 'coast', 'pacific', 'tokyo', 'located', 'atlantic', 'patrol', 'islands', 'colony', 'kentucky', 'continent', 'northwest', 'alaska', 'seas', 'mainland', 'carolina', 'sailing', 'mediterranean', 'southwest']\n",
            "\n",
            "Cluster 8\n",
            "['pursuit', 'machinations']\n",
            "\n",
            "Cluster 9\n",
            "['underwear', 'eyebrows', 'bra', 'purse', 'towel', 'panties', 'undress', 'necklace']\n"
          ],
          "name": "stdout"
        }
      ]
    },
    {
      "cell_type": "code",
      "metadata": {
        "id": "LPUpqXmzRAQ7"
      },
      "source": [
        "def create_bag_of_centroids( wordlist, word_centroid_map ):\n",
        "    #\n",
        "    # The number of clusters is equal to the highest cluster index\n",
        "    # in the word / centroid map\n",
        "    num_centroids = max( word_centroid_map.values() ) + 1\n",
        "    #\n",
        "    # Pre-allocate the bag of centroids vector (for speed)\n",
        "    bag_of_centroids = np.zeros( num_centroids, dtype=\"float32\" )\n",
        "    #\n",
        "    # Loop over the words in the review. If the word is in the vocabulary,\n",
        "    # find which cluster it belongs to, and increment that cluster count \n",
        "    # by one\n",
        "    for word in wordlist:\n",
        "        if word in word_centroid_map:\n",
        "            index = word_centroid_map[word]\n",
        "            bag_of_centroids[index] += 1\n",
        "    #\n",
        "    # Return the \"bag of centroids\"\n",
        "    return bag_of_centroids"
      ],
      "execution_count": null,
      "outputs": []
    },
    {
      "cell_type": "code",
      "metadata": {
        "id": "eFsZJs-hW4ro"
      },
      "source": [
        "# Pre-allocate an array for the training set bags of centroids (for speed)\n",
        "train_centroids = np.zeros( (train[\"review\"].size, num_clusters), \\\n",
        "    dtype=\"float32\" )\n",
        "\n",
        "# Transform the training set reviews into bags of centroids\n",
        "counter = 0\n",
        "for review in clean_train_reviews:\n",
        "    train_centroids[counter] = create_bag_of_centroids( review, \\\n",
        "        word_centroid_map )\n",
        "    counter += 1\n",
        "\n",
        "# Repeat for test reviews \n",
        "test_centroids = np.zeros(( test[\"review\"].size, num_clusters), \\\n",
        "    dtype=\"float32\" )\n",
        "\n",
        "counter = 0\n",
        "for review in clean_test_reviews:\n",
        "    test_centroids[counter] = create_bag_of_centroids( review, \\\n",
        "        word_centroid_map )\n",
        "    counter += 1"
      ],
      "execution_count": null,
      "outputs": []
    },
    {
      "cell_type": "code",
      "metadata": {
        "id": "mEo_pm-l2cTg"
      },
      "source": [
        "# Fit a random forest and extract predictions \n",
        "forest = RandomForestClassifier(n_estimators = 100)\n",
        "\n",
        "# Fitting the forest may take a few minutes\n",
        "print (\"Fitting a random forest to labeled training data...\")\n",
        "forest = forest.fit(train_centroids,train[\"sentiment\"])\n",
        "result = forest.predict(test_centroids)\n",
        "\n",
        "# Write the test results \n",
        "output = pd.DataFrame(data={\"id\":test[\"id\"], \"sentiment\":result})\n",
        "output.to_csv( \"BagOfCentroids.csv\", index=False, quoting=3 )"
      ],
      "execution_count": null,
      "outputs": []
    },
    {
      "cell_type": "code",
      "metadata": {
        "id": "yiAeEexJ9BhA"
      },
      "source": [
        "# from google.colab import files\n",
        "# uploaded = files.upload()"
      ],
      "execution_count": null,
      "outputs": []
    },
    {
      "cell_type": "code",
      "metadata": {
        "colab": {
          "base_uri": "https://localhost:8080/",
          "height": 416
        },
        "id": "3B9rBl_p9bVs",
        "outputId": "953e6fff-3c98-490f-9c2c-4e78dde68062"
      },
      "source": [
        "final_result = pd.read_csv(\"BagOfCentroids.csv\", quoting = 3)\n",
        "final_result"
      ],
      "execution_count": null,
      "outputs": [
        {
          "output_type": "execute_result",
          "data": {
            "text/html": [
              "<div>\n",
              "<style scoped>\n",
              "    .dataframe tbody tr th:only-of-type {\n",
              "        vertical-align: middle;\n",
              "    }\n",
              "\n",
              "    .dataframe tbody tr th {\n",
              "        vertical-align: top;\n",
              "    }\n",
              "\n",
              "    .dataframe thead th {\n",
              "        text-align: right;\n",
              "    }\n",
              "</style>\n",
              "<table border=\"1\" class=\"dataframe\">\n",
              "  <thead>\n",
              "    <tr style=\"text-align: right;\">\n",
              "      <th></th>\n",
              "      <th>id</th>\n",
              "      <th>sentiment</th>\n",
              "    </tr>\n",
              "  </thead>\n",
              "  <tbody>\n",
              "    <tr>\n",
              "      <th>0</th>\n",
              "      <td>\"12311_10\"</td>\n",
              "      <td>1</td>\n",
              "    </tr>\n",
              "    <tr>\n",
              "      <th>1</th>\n",
              "      <td>\"8348_2\"</td>\n",
              "      <td>0</td>\n",
              "    </tr>\n",
              "    <tr>\n",
              "      <th>2</th>\n",
              "      <td>\"5828_4\"</td>\n",
              "      <td>1</td>\n",
              "    </tr>\n",
              "    <tr>\n",
              "      <th>3</th>\n",
              "      <td>\"7186_2\"</td>\n",
              "      <td>1</td>\n",
              "    </tr>\n",
              "    <tr>\n",
              "      <th>4</th>\n",
              "      <td>\"12128_7\"</td>\n",
              "      <td>1</td>\n",
              "    </tr>\n",
              "    <tr>\n",
              "      <th>...</th>\n",
              "      <td>...</td>\n",
              "      <td>...</td>\n",
              "    </tr>\n",
              "    <tr>\n",
              "      <th>24995</th>\n",
              "      <td>\"2155_10\"</td>\n",
              "      <td>1</td>\n",
              "    </tr>\n",
              "    <tr>\n",
              "      <th>24996</th>\n",
              "      <td>\"59_10\"</td>\n",
              "      <td>1</td>\n",
              "    </tr>\n",
              "    <tr>\n",
              "      <th>24997</th>\n",
              "      <td>\"2531_1\"</td>\n",
              "      <td>0</td>\n",
              "    </tr>\n",
              "    <tr>\n",
              "      <th>24998</th>\n",
              "      <td>\"7772_8\"</td>\n",
              "      <td>1</td>\n",
              "    </tr>\n",
              "    <tr>\n",
              "      <th>24999</th>\n",
              "      <td>\"11465_10\"</td>\n",
              "      <td>1</td>\n",
              "    </tr>\n",
              "  </tbody>\n",
              "</table>\n",
              "<p>25000 rows × 2 columns</p>\n",
              "</div>"
            ],
            "text/plain": [
              "               id  sentiment\n",
              "0      \"12311_10\"          1\n",
              "1        \"8348_2\"          0\n",
              "2        \"5828_4\"          1\n",
              "3        \"7186_2\"          1\n",
              "4       \"12128_7\"          1\n",
              "...           ...        ...\n",
              "24995   \"2155_10\"          1\n",
              "24996     \"59_10\"          1\n",
              "24997    \"2531_1\"          0\n",
              "24998    \"7772_8\"          1\n",
              "24999  \"11465_10\"          1\n",
              "\n",
              "[25000 rows x 2 columns]"
            ]
          },
          "metadata": {
            "tags": []
          },
          "execution_count": 52
        }
      ]
    },
    {
      "cell_type": "code",
      "metadata": {
        "id": "XIDUjIlu-TE-"
      },
      "source": [
        ""
      ],
      "execution_count": null,
      "outputs": []
    }
  ]
}