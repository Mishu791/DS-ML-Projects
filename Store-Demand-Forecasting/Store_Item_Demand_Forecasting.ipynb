{
  "nbformat": 4,
  "nbformat_minor": 0,
  "metadata": {
    "colab": {
      "name": "Store Item Demand Forecasting.ipynb",
      "provenance": [],
      "collapsed_sections": []
    },
    "kernelspec": {
      "name": "python3",
      "display_name": "Python 3"
    }
  },
  "cells": [
    {
      "cell_type": "code",
      "metadata": {
        "colab": {
          "base_uri": "https://localhost:8080/"
        },
        "id": "bbL-5E-f4uZy",
        "outputId": "1ae63d33-6a96-4929-92e7-bcb645f2706a"
      },
      "source": [
        "from google.colab import drive\n",
        "drive.mount('/content/drive')"
      ],
      "execution_count": null,
      "outputs": [
        {
          "output_type": "stream",
          "text": [
            "Drive already mounted at /content/drive; to attempt to forcibly remount, call drive.mount(\"/content/drive\", force_remount=True).\n"
          ],
          "name": "stdout"
        }
      ]
    },
    {
      "cell_type": "code",
      "metadata": {
        "id": "UrkBjDl5IHmA"
      },
      "source": [
        "# necessary libraries \n",
        "import numpy as np \n",
        "import pandas as pd\n",
        "import keras.backend as K\n",
        "from keras.layers import Dense, Dropout, Embedding, Input, Reshape, Concatenate\n",
        "from keras.models import Model"
      ],
      "execution_count": null,
      "outputs": []
    },
    {
      "cell_type": "code",
      "metadata": {
        "id": "MwwXUIZTAOvW"
      },
      "source": [
        "#zip file reading section \n",
        "import zipfile\n",
        "zip_ref = zipfile.ZipFile(\"/content/drive/MyDrive/demand-forecasting-kernels-only.zip\", 'r')\n",
        "zip_ref.extractall(\"/demandforecasting\")\n",
        "zip_ref.close()"
      ],
      "execution_count": null,
      "outputs": []
    },
    {
      "cell_type": "code",
      "metadata": {
        "colab": {
          "base_uri": "https://localhost:8080/",
          "height": 279
        },
        "id": "RQW0sJ1SHpc-",
        "outputId": "f46892c2-212d-43e4-aec5-7b2db2f9a180"
      },
      "source": [
        "# train = pd.read_csv(\"/demandforecasting/train.csv\", parse_dates= True, index_col = 0)\n",
        "# test = pd.read_csv(\"/demandforecasting/test.csv\", parse_dates=True,index_col =1 )\n",
        "\n",
        "# sample = pd.read_csv(\"/demandforecasting/sample_submission.csv\")\n",
        "\n",
        "\n",
        "train_data = pd.read_csv(\"/demandforecasting/train.csv\", parse_dates=True, index_col =0)\n",
        "#plot and try to understand the trend of the graph \n",
        "train_data.groupby('date').mean().resample(\"w\").mean().plot()\n",
        "#selecting the last column to be predicted \n",
        "y_train = train_data.iloc[:,-1].values\n",
        "#dropping the last column which is 'sales'\n",
        "train_data.drop('sales', 1, inplace=True)\n",
        "#separating the index column from the 'date' column \n",
        "train_data['y'] = train_data.index.year-train_data.index.year.min()\n",
        "train_data['m'] = train_data.index.month\n",
        "train_data['d'] = train_data.index.day\n",
        "train_data['dow'] = train_data.index.dayofweek"
      ],
      "execution_count": null,
      "outputs": [
        {
          "output_type": "display_data",
          "data": {
            "image/png": "[encoded data removed]",
            "text/plain": [
              "<Figure size 432x288 with 1 Axes>"
            ]
          },
          "metadata": {
            "tags": [],
            "needs_background": "light"
          }
        }
      ]
    },
    {
      "cell_type": "code",
      "metadata": {
        "id": "ArpalklXQvdO"
      },
      "source": [
        "from sklearn.model_selection import train_test_split\n",
        "x_train, x_val, y_train, y_val = train_test_split(train_data, y_train, test_size=.1, random_state=0, shuffle = True)"
      ],
      "execution_count": null,
      "outputs": []
    },
    {
      "cell_type": "code",
      "metadata": {
        "colab": {
          "base_uri": "https://localhost:8080/",
          "height": 444
        },
        "id": "pPUEavBnoybX",
        "outputId": "4a5c5d05-0cdd-4f85-dbdc-1390ce8ed7f1"
      },
      "source": [
        "#  this is just for checking \n",
        "cat_var = list(train_data.columns)\n",
        "cat_var \n",
        "train_data\n",
        "# upto this portion nice! "
      ],
      "execution_count": null,
      "outputs": [
        {
          "output_type": "execute_result",
          "data": {
            "text/html": [
              "<div>\n",
              "<style scoped>\n",
              "    .dataframe tbody tr th:only-of-type {\n",
              "        vertical-align: middle;\n",
              "    }\n",
              "\n",
              "    .dataframe tbody tr th {\n",
              "        vertical-align: top;\n",
              "    }\n",
              "\n",
              "    .dataframe thead th {\n",
              "        text-align: right;\n",
              "    }\n",
              "</style>\n",
              "<table border=\"1\" class=\"dataframe\">\n",
              "  <thead>\n",
              "    <tr style=\"text-align: right;\">\n",
              "      <th></th>\n",
              "      <th>store</th>\n",
              "      <th>item</th>\n",
              "      <th>y</th>\n",
              "      <th>m</th>\n",
              "      <th>d</th>\n",
              "      <th>dow</th>\n",
              "    </tr>\n",
              "    <tr>\n",
              "      <th>date</th>\n",
              "      <th></th>\n",
              "      <th></th>\n",
              "      <th></th>\n",
              "      <th></th>\n",
              "      <th></th>\n",
              "      <th></th>\n",
              "    </tr>\n",
              "  </thead>\n",
              "  <tbody>\n",
              "    <tr>\n",
              "      <th>2013-01-01</th>\n",
              "      <td>1</td>\n",
              "      <td>1</td>\n",
              "      <td>0</td>\n",
              "      <td>1</td>\n",
              "      <td>1</td>\n",
              "      <td>1</td>\n",
              "    </tr>\n",
              "    <tr>\n",
              "      <th>2013-01-02</th>\n",
              "      <td>1</td>\n",
              "      <td>1</td>\n",
              "      <td>0</td>\n",
              "      <td>1</td>\n",
              "      <td>2</td>\n",
              "      <td>2</td>\n",
              "    </tr>\n",
              "    <tr>\n",
              "      <th>2013-01-03</th>\n",
              "      <td>1</td>\n",
              "      <td>1</td>\n",
              "      <td>0</td>\n",
              "      <td>1</td>\n",
              "      <td>3</td>\n",
              "      <td>3</td>\n",
              "    </tr>\n",
              "    <tr>\n",
              "      <th>2013-01-04</th>\n",
              "      <td>1</td>\n",
              "      <td>1</td>\n",
              "      <td>0</td>\n",
              "      <td>1</td>\n",
              "      <td>4</td>\n",
              "      <td>4</td>\n",
              "    </tr>\n",
              "    <tr>\n",
              "      <th>2013-01-05</th>\n",
              "      <td>1</td>\n",
              "      <td>1</td>\n",
              "      <td>0</td>\n",
              "      <td>1</td>\n",
              "      <td>5</td>\n",
              "      <td>5</td>\n",
              "    </tr>\n",
              "    <tr>\n",
              "      <th>...</th>\n",
              "      <td>...</td>\n",
              "      <td>...</td>\n",
              "      <td>...</td>\n",
              "      <td>...</td>\n",
              "      <td>...</td>\n",
              "      <td>...</td>\n",
              "    </tr>\n",
              "    <tr>\n",
              "      <th>2017-12-27</th>\n",
              "      <td>10</td>\n",
              "      <td>50</td>\n",
              "      <td>4</td>\n",
              "      <td>12</td>\n",
              "      <td>27</td>\n",
              "      <td>2</td>\n",
              "    </tr>\n",
              "    <tr>\n",
              "      <th>2017-12-28</th>\n",
              "      <td>10</td>\n",
              "      <td>50</td>\n",
              "      <td>4</td>\n",
              "      <td>12</td>\n",
              "      <td>28</td>\n",
              "      <td>3</td>\n",
              "    </tr>\n",
              "    <tr>\n",
              "      <th>2017-12-29</th>\n",
              "      <td>10</td>\n",
              "      <td>50</td>\n",
              "      <td>4</td>\n",
              "      <td>12</td>\n",
              "      <td>29</td>\n",
              "      <td>4</td>\n",
              "    </tr>\n",
              "    <tr>\n",
              "      <th>2017-12-30</th>\n",
              "      <td>10</td>\n",
              "      <td>50</td>\n",
              "      <td>4</td>\n",
              "      <td>12</td>\n",
              "      <td>30</td>\n",
              "      <td>5</td>\n",
              "    </tr>\n",
              "    <tr>\n",
              "      <th>2017-12-31</th>\n",
              "      <td>10</td>\n",
              "      <td>50</td>\n",
              "      <td>4</td>\n",
              "      <td>12</td>\n",
              "      <td>31</td>\n",
              "      <td>6</td>\n",
              "    </tr>\n",
              "  </tbody>\n",
              "</table>\n",
              "<p>913000 rows × 6 columns</p>\n",
              "</div>"
            ],
            "text/plain": [
              "            store  item  y   m   d  dow\n",
              "date                                   \n",
              "2013-01-01      1     1  0   1   1    1\n",
              "2013-01-02      1     1  0   1   2    2\n",
              "2013-01-03      1     1  0   1   3    3\n",
              "2013-01-04      1     1  0   1   4    4\n",
              "2013-01-05      1     1  0   1   5    5\n",
              "...           ...   ... ..  ..  ..  ...\n",
              "2017-12-27     10    50  4  12  27    2\n",
              "2017-12-28     10    50  4  12  28    3\n",
              "2017-12-29     10    50  4  12  29    4\n",
              "2017-12-30     10    50  4  12  30    5\n",
              "2017-12-31     10    50  4  12  31    6\n",
              "\n",
              "[913000 rows x 6 columns]"
            ]
          },
          "metadata": {
            "tags": []
          },
          "execution_count": 26
        }
      ]
    },
    {
      "cell_type": "code",
      "metadata": {
        "id": "ANSIx_qs2_1h"
      },
      "source": [
        "cat_vars = list(train_data.columns)\n",
        "cat_vars.remove('y')\n",
        "# Only year is not categorical, as the value of years are numerically comparable.\n",
        "cont_vars = ['y']"
      ],
      "execution_count": null,
      "outputs": []
    },
    {
      "cell_type": "code",
      "metadata": {
        "id": "lKPNs2zzJTLP"
      },
      "source": [
        "\n",
        "X_train = []\n",
        "X_val = []\n",
        "X_train.append(x_train[cont_vars].astype('float32').values)\n",
        "X_val.append(x_val[cont_vars].astype('float32').values)\n",
        "\n",
        "for cat in cat_vars:\n",
        "    X_train.append(x_train[cat].values)\n",
        "    X_val.append(x_val[cat].values)\n",
        "\n",
        "# https://kanoki.org/2019/10/09/working-with-pandas-datetime/"
      ],
      "execution_count": null,
      "outputs": []
    },
    {
      "cell_type": "code",
      "metadata": {
        "id": "hIHIx_71TF-M"
      },
      "source": [
        "cat_sizes = {}\n",
        "cat_embsizes = {}\n",
        "for cat in cat_vars:\n",
        "    cat_sizes[cat] = train_data[cat].nunique()\n",
        "    cat_embsizes[cat] = min(50, cat_sizes[cat]//2+1)"
      ],
      "execution_count": null,
      "outputs": []
    },
    {
      "cell_type": "code",
      "metadata": {
        "colab": {
          "base_uri": "https://localhost:8080/"
        },
        "id": "Y1JQF5RtV8jq",
        "outputId": "d4666f60-c6ce-49ff-816e-8020b1744b28"
      },
      "source": [
        "cat_embsizes\n"
      ],
      "execution_count": null,
      "outputs": [
        {
          "output_type": "execute_result",
          "data": {
            "text/plain": [
              "{'d': 16, 'dow': 4, 'item': 26, 'm': 7, 'store': 6}"
            ]
          },
          "metadata": {
            "tags": []
          },
          "execution_count": 10
        }
      ]
    },
    {
      "cell_type": "code",
      "metadata": {
        "id": "cE207JIcZ1-L"
      },
      "source": [
        "test_data = pd.read_csv(\"/demandforecasting/test.csv\", parse_dates=True, index_col =1)\n",
        "test_data['y'] = test_data.index.year-train_data.index.year.min()\n",
        "test_data['m'] = test_data.index.month\n",
        "test_data['d'] = test_data.index.day\n",
        "test_data['dow'] = test_data.index.dayofweek"
      ],
      "execution_count": null,
      "outputs": []
    },
    {
      "cell_type": "code",
      "metadata": {
        "id": "2QnEmaip2wyt"
      },
      "source": [
        "X_test = []\n",
        "X_test.append(test_data[cont_vars].astype('float32').values)\n",
        "for cat in cat_vars:\n",
        "    X_test.append(test_data[cat].values)"
      ],
      "execution_count": null,
      "outputs": []
    },
    {
      "cell_type": "code",
      "metadata": {
        "id": "g7bHnpXN0jBd"
      },
      "source": [
        "import keras.backend as K\n",
        "\n",
        "def custom_smape(x, x_):\n",
        "    return K.mean(2*K.abs(x-x_)/(K.abs(x)+K.abs(x_)))"
      ],
      "execution_count": null,
      "outputs": []
    },
    {
      "cell_type": "code",
      "metadata": {
        "colab": {
          "base_uri": "https://localhost:8080/"
        },
        "id": "3UhI-IM22-et",
        "outputId": "ebd7f4ea-c88c-43cd-8efc-8803c6071553"
      },
      "source": [
        "y = Input((len(cont_vars),), name='cont_vars')\n",
        "ins = [y]\n",
        "concat = [y]\n",
        "for cat in cat_vars:\n",
        "    x = Input((1,), name=cat)\n",
        "    ins.append(x)\n",
        "    x = Embedding(cat_sizes[cat]+1, cat_embsizes[cat], input_length=1)(x)\n",
        "    x = Reshape((cat_embsizes[cat],))(x)\n",
        "    concat.append(x)\n",
        "y = Concatenate()(concat)\n",
        "y = Dense(100, activation= 'relu')(y)\n",
        "# y = Dense(100, activation= 'relu')(y)\n",
        "y = Dense(1)(y)\n",
        "model = Model(ins, y)\n",
        "model.summary()\n",
        "model.compile('adadelta', custom_smape)"
      ],
      "execution_count": null,
      "outputs": [
        {
          "output_type": "stream",
          "text": [
            "Model: \"model_1\"\n",
            "__________________________________________________________________________________________________\n",
            "Layer (type)                    Output Shape         Param #     Connected to                     \n",
            "==================================================================================================\n",
            "store (InputLayer)              [(None, 1)]          0                                            \n",
            "__________________________________________________________________________________________________\n",
            "item (InputLayer)               [(None, 1)]          0                                            \n",
            "__________________________________________________________________________________________________\n",
            "m (InputLayer)                  [(None, 1)]          0                                            \n",
            "__________________________________________________________________________________________________\n",
            "d (InputLayer)                  [(None, 1)]          0                                            \n",
            "__________________________________________________________________________________________________\n",
            "dow (InputLayer)                [(None, 1)]          0                                            \n",
            "__________________________________________________________________________________________________\n",
            "embedding_5 (Embedding)         (None, 1, 6)         66          store[0][0]                      \n",
            "__________________________________________________________________________________________________\n",
            "embedding_6 (Embedding)         (None, 1, 26)        1326        item[0][0]                       \n",
            "__________________________________________________________________________________________________\n",
            "embedding_7 (Embedding)         (None, 1, 7)         91          m[0][0]                          \n",
            "__________________________________________________________________________________________________\n",
            "embedding_8 (Embedding)         (None, 1, 16)        512         d[0][0]                          \n",
            "__________________________________________________________________________________________________\n",
            "embedding_9 (Embedding)         (None, 1, 4)         32          dow[0][0]                        \n",
            "__________________________________________________________________________________________________\n",
            "cont_vars (InputLayer)          [(None, 1)]          0                                            \n",
            "__________________________________________________________________________________________________\n",
            "reshape_5 (Reshape)             (None, 6)            0           embedding_5[0][0]                \n",
            "__________________________________________________________________________________________________\n",
            "reshape_6 (Reshape)             (None, 26)           0           embedding_6[0][0]                \n",
            "__________________________________________________________________________________________________\n",
            "reshape_7 (Reshape)             (None, 7)            0           embedding_7[0][0]                \n",
            "__________________________________________________________________________________________________\n",
            "reshape_8 (Reshape)             (None, 16)           0           embedding_8[0][0]                \n",
            "__________________________________________________________________________________________________\n",
            "reshape_9 (Reshape)             (None, 4)            0           embedding_9[0][0]                \n",
            "__________________________________________________________________________________________________\n",
            "concatenate_1 (Concatenate)     (None, 60)           0           cont_vars[0][0]                  \n",
            "                                                                 reshape_5[0][0]                  \n",
            "                                                                 reshape_6[0][0]                  \n",
            "                                                                 reshape_7[0][0]                  \n",
            "                                                                 reshape_8[0][0]                  \n",
            "                                                                 reshape_9[0][0]                  \n",
            "__________________________________________________________________________________________________\n",
            "dense_2 (Dense)                 (None, 100)          6100        concatenate_1[0][0]              \n",
            "__________________________________________________________________________________________________\n",
            "dense_3 (Dense)                 (None, 1)            101         dense_2[0][0]                    \n",
            "==================================================================================================\n",
            "Total params: 8,228\n",
            "Trainable params: 8,228\n",
            "Non-trainable params: 0\n",
            "__________________________________________________________________________________________________\n"
          ],
          "name": "stdout"
        }
      ]
    },
    {
      "cell_type": "code",
      "metadata": {
        "colab": {
          "base_uri": "https://localhost:8080/"
        },
        "id": "_KswhftF0jaC",
        "outputId": "38b7bc98-7c06-4274-f397-8dd9bcec1082"
      },
      "source": [
        "# X_train = X_train.astype('float32')\n",
        "y_train= y_train.astype('float32')\n",
        "\n",
        "# X_val = X_val.astype('float32')\n",
        "y_val= y_val.astype('float32')\n",
        "model.fit(X_train, y_train, 64, 2, validation_data=(X_val, y_val))\n",
        "# a shitty explanation for the input and output tensor mismatch problem \n",
        "#validation_data: ... validation_data could be: - tuple (x_val, y_val) of Numpy arrays or tensors - tuple (x_val, y_val, val_sample_weights) of Numpy arrays - dataset ...\n",
        "#So, validation_data has to be a tuple rather than a list (of Numpy arrays or tensors). We should use parentheses (round brackets) (...), not square brackets [...]."
      ],
      "execution_count": null,
      "outputs": [
        {
          "output_type": "stream",
          "text": [
            "Epoch 1/2\n",
            "12840/12840 [==============================] - 22s 2ms/step - loss: 1.9613 - val_loss: 1.8126\n",
            "Epoch 2/2\n",
            "12840/12840 [==============================] - 21s 2ms/step - loss: 1.7397 - val_loss: 1.4770\n"
          ],
          "name": "stdout"
        },
        {
          "output_type": "execute_result",
          "data": {
            "text/plain": [
              "<tensorflow.python.keras.callbacks.History at 0x7f252ca23e90>"
            ]
          },
          "metadata": {
            "tags": []
          },
          "execution_count": 34
        }
      ]
    },
    {
      "cell_type": "code",
      "metadata": {
        "id": "siyEznYm352P"
      },
      "source": [
        "test_preds = model.predict(X_test)\n",
        "sample_data = pd.read_csv(\"/demandforecasting/sample_submission.csv\", index_col=0)\n",
        "sample_data['sales'] = test_preds\n",
        "sample_data.to_csv('preds.csv')"
      ],
      "execution_count": null,
      "outputs": []
    },
    {
      "cell_type": "code",
      "metadata": {
        "id": "cgjFivqH4frj"
      },
      "source": [
        "#resource links\n",
        "\n",
        "# https://www.kaggle.com/rezas26/simple-keras-starter\n",
        "#https://www.kaggle.com/danofer/getting-started-with-time-series-features"
      ],
      "execution_count": null,
      "outputs": []
    },
    {
      "cell_type": "code",
      "metadata": {
        "id": "K8w0hpWM7LqK",
        "colab": {
          "base_uri": "https://localhost:8080/",
          "height": 413
        },
        "outputId": "2e2bbe1f-4e4e-4a94-d8a9-bd4997fab14f"
      },
      "source": [
        "result = pd.read_csv('preds.csv')\n",
        "result "
      ],
      "execution_count": null,
      "outputs": [
        {
          "output_type": "execute_result",
          "data": {
            "text/html": [
              "<div>\n",
              "<style scoped>\n",
              "    .dataframe tbody tr th:only-of-type {\n",
              "        vertical-align: middle;\n",
              "    }\n",
              "\n",
              "    .dataframe tbody tr th {\n",
              "        vertical-align: top;\n",
              "    }\n",
              "\n",
              "    .dataframe thead th {\n",
              "        text-align: right;\n",
              "    }\n",
              "</style>\n",
              "<table border=\"1\" class=\"dataframe\">\n",
              "  <thead>\n",
              "    <tr style=\"text-align: right;\">\n",
              "      <th></th>\n",
              "      <th>id</th>\n",
              "      <th>sales</th>\n",
              "    </tr>\n",
              "  </thead>\n",
              "  <tbody>\n",
              "    <tr>\n",
              "      <th>0</th>\n",
              "      <td>0</td>\n",
              "      <td>12.976759</td>\n",
              "    </tr>\n",
              "    <tr>\n",
              "      <th>1</th>\n",
              "      <td>1</td>\n",
              "      <td>12.972337</td>\n",
              "    </tr>\n",
              "    <tr>\n",
              "      <th>2</th>\n",
              "      <td>2</td>\n",
              "      <td>12.959005</td>\n",
              "    </tr>\n",
              "    <tr>\n",
              "      <th>3</th>\n",
              "      <td>3</td>\n",
              "      <td>12.973466</td>\n",
              "    </tr>\n",
              "    <tr>\n",
              "      <th>4</th>\n",
              "      <td>4</td>\n",
              "      <td>12.959934</td>\n",
              "    </tr>\n",
              "    <tr>\n",
              "      <th>...</th>\n",
              "      <td>...</td>\n",
              "      <td>...</td>\n",
              "    </tr>\n",
              "    <tr>\n",
              "      <th>44995</th>\n",
              "      <td>44995</td>\n",
              "      <td>12.951926</td>\n",
              "    </tr>\n",
              "    <tr>\n",
              "      <th>44996</th>\n",
              "      <td>44996</td>\n",
              "      <td>12.973481</td>\n",
              "    </tr>\n",
              "    <tr>\n",
              "      <th>44997</th>\n",
              "      <td>44997</td>\n",
              "      <td>12.943542</td>\n",
              "    </tr>\n",
              "    <tr>\n",
              "      <th>44998</th>\n",
              "      <td>44998</td>\n",
              "      <td>13.000288</td>\n",
              "    </tr>\n",
              "    <tr>\n",
              "      <th>44999</th>\n",
              "      <td>44999</td>\n",
              "      <td>12.955528</td>\n",
              "    </tr>\n",
              "  </tbody>\n",
              "</table>\n",
              "<p>45000 rows × 2 columns</p>\n",
              "</div>"
            ],
            "text/plain": [
              "          id      sales\n",
              "0          0  12.976759\n",
              "1          1  12.972337\n",
              "2          2  12.959005\n",
              "3          3  12.973466\n",
              "4          4  12.959934\n",
              "...      ...        ...\n",
              "44995  44995  12.951926\n",
              "44996  44996  12.973481\n",
              "44997  44997  12.943542\n",
              "44998  44998  13.000288\n",
              "44999  44999  12.955528\n",
              "\n",
              "[45000 rows x 2 columns]"
            ]
          },
          "metadata": {
            "tags": []
          },
          "execution_count": 40
        }
      ]
    },
    {
      "cell_type": "code",
      "metadata": {
        "id": "J2tJ2KXI8fep"
      },
      "source": [
        ""
      ],
      "execution_count": null,
      "outputs": []
    }
  ]
}